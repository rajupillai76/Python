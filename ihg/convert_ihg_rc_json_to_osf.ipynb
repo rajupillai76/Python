{
 "cells": [
  {
   "cell_type": "code",
   "execution_count": 1,
   "metadata": {},
   "outputs": [],
   "source": [
    "import pandas as pd\n",
    "from pandas import DataFrame\n",
    "import pyarrow as pa\n",
    "import pyarrow.parquet as pq\n",
    "from datetime import datetime"
   ]
  },
  {
   "cell_type": "code",
   "execution_count": 2,
   "metadata": {},
   "outputs": [],
   "source": [
    "rcjsonfile = open('/Users/raju.pillai/mydata/DAdata/DataAcquisition/output/json/ihg/RCF20180927_101352.json','r')"
   ]
  },
  {
   "cell_type": "code",
   "execution_count": 3,
   "metadata": {},
   "outputs": [],
   "source": [
    "rcjsondf = DataFrame(pd.read_json(rcjsonfile))"
   ]
  },
  {
   "cell_type": "code",
   "execution_count": 4,
   "metadata": {},
   "outputs": [],
   "source": [
    "now = datetime.now().strftime('%Y-%m-%d %H:%M:%S')"
   ]
  },
  {
   "cell_type": "code",
   "execution_count": 5,
   "metadata": {},
   "outputs": [],
   "source": [
    "#rcjsondf.columns"
   ]
  },
  {
   "cell_type": "code",
   "execution_count": 6,
   "metadata": {},
   "outputs": [],
   "source": [
    "rcjsondf['File_Source'] = 'Cash-711'\n",
    "rcjsondf['File_Timestamp'] = now"
   ]
  },
  {
   "cell_type": "code",
   "execution_count": 7,
   "metadata": {},
   "outputs": [],
   "source": [
    "#Adding non applicable columns\n",
    "rcjsondf['Payment_Record_Type'] = ''\n",
    "rcjsondf['Secondary_Confirmation_Number'] = ''\n",
    "rcjsondf['Cancellation_Origination_Code'] = ''\n",
    "rcjsondf['GNR_Number'] = ''\n",
    "rcjsondf['GNR_Sequence_Number'] = ''\n",
    "rcjsondf['Booking_Date'] = ''\n",
    "rcjsondf['Room_Type'] = ''\n",
    "rcjsondf['Commission_Flat_Amount'] = ''\n",
    "rcjsondf['Promotion_Code'] = ''\n",
    "rcjsondf['Agency_Address_3'] = ''\n",
    "rcjsondf['Parent_Child_Indicator'] = ''\n",
    "rcjsondf['Affiliation_Of_TA'] = ''\n",
    "rcjsondf['Primary_Source_Code'] = ''\n",
    "rcjsondf['Secondary_Source_Code'] = ''\n",
    "rcjsondf['Invoice_Flag'] = ' '\n",
    "rcjsondf['Commission_Processing_Flag'] = ' '\n",
    "rcjsondf['Grouping_ID'] = ''\n",
    "rcjsondf['Third_Party_Fee_Invoice_Code'] = ''\n",
    "rcjsondf['Third_Party_Fee_Amount_USD'] = ''\n",
    "rcjsondf['Category_ID'] = ''\n"
   ]
  },
  {
   "cell_type": "code",
   "execution_count": 8,
   "metadata": {},
   "outputs": [],
   "source": [
    "osfdata = (rcjsondf[[\n",
    "  'File_Source'\n",
    ", 'File_Timestamp'\n",
    ", 'Record_Type'\n",
    ", 'Payment_Record_Type'\n",
    ", 'Action_Code'\n",
    ", 'Reported_Commission_Record_Number'\n",
    ", 'Brand_Code'\n",
    ", 'Chain_Property_ID'\n",
    ", 'Booking_Source'\n",
    ", 'Chain_Confirmation_Number'\n",
    ", 'Secondary_Confirmation_Number'\n",
    ", 'Chain_Cancellation_Number'\n",
    ", 'Cancellation_Origination_Code'\n",
    ", 'Corporate_ID_Number'\n",
    ", 'ARC_IATA_Number'\n",
    ", 'Group_Guest_Last_Name'\n",
    ", 'Group_Guest_First_Name'\n",
    ", 'PNR_Number'\n",
    ", 'GNR_Number'\n",
    ", 'GNR_Sequence_Number'\n",
    ", 'Record_Status_Code'\n",
    ", 'Record_Reason_Code'\n",
    ", 'Arrival_Date'\n",
    ", 'Departure_Date'\n",
    ", 'Booking_Date'\n",
    ", 'Room_Type'\n",
    ", 'Number_of_Nights'\n",
    ", 'Number_of_Rooms'\n",
    ", 'Commissionable_Revenue'\n",
    ", 'Gross_Commission_Due'\n",
    ", 'Adjustment_Amount'\n",
    ", 'Net_Commission_Due'\n",
    ", 'Commission_Percentage'\n",
    ", 'Commission_Flat_Amount'\n",
    ", 'Transaction_Currency_Code'\n",
    ", 'Total_Tax_Records'\n",
    ", 'Total_Tax_Amount'\n",
    ", 'Rate_Plan'\n",
    ", 'Promotion_Code'\n",
    ", 'Agency_Name'\n",
    ", 'Agency_Address_1'\n",
    ", 'Agency_Address_2'\n",
    ", 'Agency_Address_3'\n",
    ", 'Agency_City'\n",
    ", 'Agency_State_Province_Code'\n",
    ", 'Agency_Country_Code'\n",
    ", 'Agency_Postal_Code'\n",
    ", 'Agency_Phone_Number'\n",
    ", 'Agency_Payment_Currency'\n",
    ", 'Report_ID'\n",
    ", 'Surrogate_Number'\n",
    ", 'Parent_Child_Indicator'\n",
    ", 'Affiliation_Of_TA'\n",
    ", 'Primary_Source_Code'\n",
    ", 'Secondary_Source_Code'\n",
    ", 'Invoice_Flag'\n",
    ", 'Commission_Processing_Flag'\n",
    ", 'Grouping_ID'\n",
    ", 'Third_Party_Fee_Invoice_Code'\n",
    ", 'Third_Party_Fee_Amount_USD'\n",
    ", 'Category_ID'\n",
    ", 'GDS_Confirmation_Number'\n",
    "]]).astype(str)"
   ]
  },
  {
   "cell_type": "code",
   "execution_count": 9,
   "metadata": {},
   "outputs": [],
   "source": [
    "pd.set_option('mode.chained_assignment', None)\n",
    "osfdata.rename(columns=\n",
    "{'Reported_Commission_Record_Number' : 'Payment_Record_Number'},inplace=True)"
   ]
  },
  {
   "cell_type": "code",
   "execution_count": 10,
   "metadata": {},
   "outputs": [],
   "source": [
    "#osfdata = osfdata.astype(str)"
   ]
  },
  {
   "cell_type": "code",
   "execution_count": 11,
   "metadata": {},
   "outputs": [],
   "source": [
    "#osfcsv = open ('/Users/raju.pillai/gitrepo/python/data/DataAcquisition/output/csv/osfdata.csv','a+')"
   ]
  },
  {
   "cell_type": "code",
   "execution_count": 12,
   "metadata": {},
   "outputs": [],
   "source": [
    "\n",
    "#export_psf_csv = osfdata.to_csv(osfcsv, sep= '|', index=None, header=True, mode='a')"
   ]
  },
  {
   "cell_type": "code",
   "execution_count": 13,
   "metadata": {},
   "outputs": [],
   "source": [
    "#print(osfdata)\n",
    "#osfdata.info()"
   ]
  },
  {
   "cell_type": "code",
   "execution_count": 14,
   "metadata": {},
   "outputs": [],
   "source": [
    "table = pa.Table.from_pandas(osfdata)"
   ]
  },
  {
   "cell_type": "code",
   "execution_count": 15,
   "metadata": {},
   "outputs": [],
   "source": [
    "#table"
   ]
  },
  {
   "cell_type": "code",
   "execution_count": 16,
   "metadata": {},
   "outputs": [],
   "source": [
    "#table.to_pandas()"
   ]
  },
  {
   "cell_type": "code",
   "execution_count": 17,
   "metadata": {},
   "outputs": [],
   "source": [
    " #pq.write_table(table, '/Users/raju.pillai/gitrepo/python/data/DataAcquisition/output/pqt/osfdata.parquet',compression='none')"
   ]
  },
  {
   "cell_type": "code",
   "execution_count": 15,
   "metadata": {},
   "outputs": [],
   "source": [
    " pq.write_to_dataset(table, root_path = '/Users/raju.pillai/mydata/DAdata/DataAcquisition/output/pqt/ihg/stay_master_part_parquet',partition_cols=['Brand_Code','File_Timestamp'], compression='none', use_dictionary=False)"
   ]
  },
  {
   "cell_type": "code",
   "execution_count": 19,
   "metadata": {},
   "outputs": [],
   "source": [
    "#df = pd.read_parquet('/Users/raju.pillai/gitrepo/python/data/DataAcquisition/output/pqt/osfdata_part_parquet')"
   ]
  },
  {
   "cell_type": "code",
   "execution_count": 20,
   "metadata": {},
   "outputs": [],
   "source": [
    "#df[\"Brand_Code\"].value_counts()"
   ]
  },
  {
   "cell_type": "code",
   "execution_count": null,
   "metadata": {},
   "outputs": [],
   "source": []
  },
  {
   "cell_type": "code",
   "execution_count": null,
   "metadata": {},
   "outputs": [],
   "source": []
  }
 ],
 "metadata": {
  "kernelspec": {
   "display_name": "Python 3",
   "language": "python",
   "name": "python3"
  },
  "language_info": {
   "codemirror_mode": {
    "name": "ipython",
    "version": 3
   },
   "file_extension": ".py",
   "mimetype": "text/x-python",
   "name": "python",
   "nbconvert_exporter": "python",
   "pygments_lexer": "ipython3",
   "version": "3.7.4"
  }
 },
 "nbformat": 4,
 "nbformat_minor": 2
}
