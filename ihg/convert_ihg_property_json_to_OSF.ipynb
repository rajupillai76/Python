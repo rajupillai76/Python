{
 "cells": [
  {
   "cell_type": "code",
   "execution_count": 74,
   "metadata": {},
   "outputs": [],
   "source": [
    "import pandas as pd\n",
    "from pandas import DataFrame\n",
    "import pyarrow as pa\n",
    "import pyarrow.parquet as pq\n",
    "from datetime import datetime"
   ]
  },
  {
   "cell_type": "code",
   "execution_count": 75,
   "metadata": {},
   "outputs": [],
   "source": [
    "pmjsonfile = open('/Users/raju.pillai/mydata/DAdata/DataAcquisition/output/json/ihg/IHG_property.json','r')\n",
    "chainfile = open('/Users/raju.pillai/mydata/DAdata/DataAcquisition/source/ihg/dimensions/chain.txt','r')\n",
    "brandfile = open('/Users/raju.pillai/mydata/DAdata/DataAcquisition/source/ihg/dimensions/brand.txt','r')"
   ]
  },
  {
   "cell_type": "code",
   "execution_count": 76,
   "metadata": {},
   "outputs": [],
   "source": [
    "pmjsondf = DataFrame(pd.read_json(pmjsonfile))\n",
    "chaindata = DataFrame(pd.read_csv(chainfile, sep='|', engine='python'))\n",
    "branddata = DataFrame(pd.read_csv(brandfile, sep='|', engine='python'))"
   ]
  },
  {
   "cell_type": "code",
   "execution_count": 77,
   "metadata": {},
   "outputs": [],
   "source": [
    "chain_brand_combined_df = pd.merge(chaindata, branddata, left_on='chain_code', right_on='chain_code', how='inner')"
   ]
  },
  {
   "cell_type": "code",
   "execution_count": 78,
   "metadata": {},
   "outputs": [],
   "source": [
    "property_chain_brand_combined_df = pd.merge(chain_brand_combined_df, pmjsondf, left_on='brand', right_on='property_brand', how='inner' )"
   ]
  },
  {
   "cell_type": "code",
   "execution_count": 79,
   "metadata": {},
   "outputs": [],
   "source": [
    "now = datetime.now().strftime('%Y-%m-%d %H:%M:%S')"
   ]
  },
  {
   "cell_type": "code",
   "execution_count": 80,
   "metadata": {},
   "outputs": [],
   "source": [
    "property_chain_brand_combined_df['file_source'] = 'IHG_property.json'\n",
    "property_chain_brand_combined_df['file_timestamp'] = now"
   ]
  },
  {
   "cell_type": "code",
   "execution_count": 81,
   "metadata": {},
   "outputs": [],
   "source": [
    "osfdata = (property_chain_brand_combined_df[[\n",
    "  'chain_code'\n",
    ", 'chain_name'\n",
    ", 'property_brand'\n",
    ", 'brand_name'\n",
    ", 'property_id'\n",
    ", 'property_name'\n",
    ", 'property_addr1'\n",
    ", 'property_addr2'\n",
    ", 'property_city'\n",
    ", 'property_state'\n",
    ", 'property_country'\n",
    ", 'property_postal'\n",
    ", 'property_phone'\n",
    ", 'property_fax'\n",
    ", 'property_email'\n",
    ", 'property_tax_id'\n",
    ", 'property_fund_curr'\n",
    ", 'property_invoice_currency'\n",
    ", 'property_delivery_method'\n",
    ", 'property_direct_debit'\n",
    ", 'property_location'\n",
    ", 'file_source'\n",
    ", 'file_timestamp'\n",
    "]]).astype(str)"
   ]
  },
  {
   "cell_type": "code",
   "execution_count": 82,
   "metadata": {},
   "outputs": [
    {
     "data": {
      "text/plain": [
       "Index(['chain_code', 'chain_name', 'property_brand', 'brand_name',\n",
       "       'property_id', 'property_name', 'property_addr1', 'property_addr2',\n",
       "       'property_city', 'property_state', 'property_country',\n",
       "       'property_postal', 'property_phone', 'property_fax', 'property_email',\n",
       "       'property_tax_id', 'property_fund_curr', 'property_invoice_currency',\n",
       "       'property_delivery_method', 'property_direct_debit',\n",
       "       'property_location', 'file_source', 'file_timestamp'],\n",
       "      dtype='object')"
      ]
     },
     "execution_count": 82,
     "metadata": {},
     "output_type": "execute_result"
    }
   ],
   "source": [
    "osfdata.columns"
   ]
  },
  {
   "cell_type": "code",
   "execution_count": 83,
   "metadata": {},
   "outputs": [],
   "source": [
    "table = pa.Table.from_pandas(osfdata)"
   ]
  },
  {
   "cell_type": "code",
   "execution_count": 84,
   "metadata": {},
   "outputs": [],
   "source": [
    " pq.write_to_dataset(table, root_path = '/Users/raju.pillai/mydata/DAdata/DataAcquisition/output/pqt/ihg/property_master_flat',partition_cols=['chain_code','file_timestamp'], compression='none', use_dictionary=False)"
   ]
  },
  {
   "cell_type": "code",
   "execution_count": 26,
   "metadata": {},
   "outputs": [],
   "source": [
    "#df = pd.read_parquet('/Users/raju.pillai/mydata/DAdata/DataAcquisition/output/pqt/ihg/property_master')"
   ]
  },
  {
   "cell_type": "code",
   "execution_count": 28,
   "metadata": {},
   "outputs": [],
   "source": [
    "#df[\"chain_id\"].value_counts()"
   ]
  }
 ],
 "metadata": {
  "kernelspec": {
   "display_name": "Python 3",
   "language": "python",
   "name": "python3"
  },
  "language_info": {
   "codemirror_mode": {
    "name": "ipython",
    "version": 3
   },
   "file_extension": ".py",
   "mimetype": "text/x-python",
   "name": "python",
   "nbconvert_exporter": "python",
   "pygments_lexer": "ipython3",
   "version": "3.7.4"
  }
 },
 "nbformat": 4,
 "nbformat_minor": 2
}
