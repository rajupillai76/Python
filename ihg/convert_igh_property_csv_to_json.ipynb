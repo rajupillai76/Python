{
 "cells": [
  {
   "cell_type": "markdown",
   "metadata": {},
   "source": [
    "This takes the IHG property file and converts them to json format"
   ]
  },
  {
   "cell_type": "code",
   "execution_count": 1,
   "metadata": {},
   "outputs": [],
   "source": [
    "import pandas as pd\n",
    "from pandas import DataFrame\n",
    "#import json\n",
    "#import csv"
   ]
  },
  {
   "cell_type": "code",
   "execution_count": 2,
   "metadata": {},
   "outputs": [],
   "source": [
    "pmcsvfile = open('/Users/raju.pillai/mydata/DAdata/DataAcquisition/source/ihg/IHG_property.csv','r')\n",
    "pmjsonfile = open ('/Users/raju.pillai/mydata/DAdata/DataAcquisition/output/json/ihg/IHG_property.json','w+')"
   ]
  },
  {
   "cell_type": "code",
   "execution_count": 3,
   "metadata": {},
   "outputs": [],
   "source": [
    "pmjsondf = DataFrame(pd.read_csv(pmcsvfile, sep='|', engine='python'))"
   ]
  },
  {
   "cell_type": "code",
   "execution_count": 4,
   "metadata": {},
   "outputs": [],
   "source": [
    "#pmjsondf.info()\n",
    "#rcjsondf.info()   # gives information regarding the dataframe"
   ]
  },
  {
   "cell_type": "code",
   "execution_count": 5,
   "metadata": {},
   "outputs": [],
   "source": [
    "export = pmjsondf.to_json(pmjsonfile,orient='records')"
   ]
  },
  {
   "cell_type": "raw",
   "metadata": {},
   "source": [
    "pmcsvfile.close()\n",
    "pmjsonfile.close()\n",
    "del pmjsondf          # delete the dataframe to free up memory"
   ]
  },
  {
   "cell_type": "code",
   "execution_count": null,
   "metadata": {},
   "outputs": [],
   "source": []
  }
 ],
 "metadata": {
  "kernelspec": {
   "display_name": "Python 3",
   "language": "python",
   "name": "python3"
  },
  "language_info": {
   "codemirror_mode": {
    "name": "ipython",
    "version": 3
   },
   "file_extension": ".py",
   "mimetype": "text/x-python",
   "name": "python",
   "nbconvert_exporter": "python",
   "pygments_lexer": "ipython3",
   "version": "3.7.4"
  }
 },
 "nbformat": 4,
 "nbformat_minor": 2
}
