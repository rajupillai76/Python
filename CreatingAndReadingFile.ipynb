{
 "cells": [
  {
   "cell_type": "markdown",
   "metadata": {},
   "source": [
    "# This is python script that shows how to create a new file, write to it and then read the file"
   ]
  },
  {
   "cell_type": "code",
   "execution_count": 121,
   "metadata": {},
   "outputs": [],
   "source": [
    "newfile = open('newfile1.txt','w')"
   ]
  },
  {
   "cell_type": "code",
   "execution_count": 122,
   "metadata": {},
   "outputs": [],
   "source": [
    "# creates a counter and writes a new line \n",
    "for i in range(10):\n",
    "    i = i+1\n",
    "    newfile.write('this is test' + str(i) + '\\n')"
   ]
  },
  {
   "cell_type": "code",
   "execution_count": 123,
   "metadata": {},
   "outputs": [],
   "source": [
    "newfile.close()"
   ]
  },
  {
   "cell_type": "code",
   "execution_count": 124,
   "metadata": {},
   "outputs": [],
   "source": [
    "#opens a file in append mode\n",
    "newfile = open('newfile1.txt','a')"
   ]
  },
  {
   "cell_type": "code",
   "execution_count": 125,
   "metadata": {},
   "outputs": [],
   "source": [
    "#write another 10 lines\n",
    "\n",
    "for i in range(10):\n",
    "    i = i+1\n",
    "    newfile.write('this is another test' + str(i) + '\\n')"
   ]
  },
  {
   "cell_type": "code",
   "execution_count": 126,
   "metadata": {},
   "outputs": [],
   "source": [
    "newfile.close()"
   ]
  },
  {
   "cell_type": "code",
   "execution_count": 141,
   "metadata": {},
   "outputs": [],
   "source": [
    "#Opens files in read only mode\n",
    "\n",
    "myfile = open('newfile1.txt','r')"
   ]
  },
  {
   "cell_type": "code",
   "execution_count": 143,
   "metadata": {},
   "outputs": [
    {
     "name": "stdout",
     "output_type": "stream",
     "text": [
      "Name of the file:  newfile1.txt\n",
      "this is test1\n",
      "this is test2\n",
      "this is test3\n",
      "this is test4\n",
      "this is test5\n",
      "this is test6\n",
      "this is test7\n",
      "this is test8\n",
      "this is test9\n",
      "this is test10\n",
      "this is another test1\n",
      "this is another test2\n",
      "this is another test3\n",
      "this is another test4\n",
      "this is another test5\n",
      "this is another test6\n",
      "this is another test7\n",
      "this is another test8\n",
      "this is another test9\n",
      "this is another test10\n",
      "\n"
     ]
    }
   ],
   "source": [
    "# if the file is opened successfully in read only mode, read all the lines on the file and print\n",
    "#This is not good if there are lot of rows on the file. Instead read one line at a time\n",
    "if myfile.mode == 'r':\n",
    "  filedata = myfile.read()\n",
    "print (\"Name of the file: \",myfile.name)\n",
    "print(filedata)"
   ]
  },
  {
   "cell_type": "code",
   "execution_count": 150,
   "metadata": {},
   "outputs": [],
   "source": [
    "myfile.close()"
   ]
  },
  {
   "cell_type": "code",
   "execution_count": 158,
   "metadata": {},
   "outputs": [],
   "source": [
    "myfile = open('newfile1.txt','r')"
   ]
  },
  {
   "cell_type": "code",
   "execution_count": 159,
   "metadata": {},
   "outputs": [
    {
     "name": "stdout",
     "output_type": "stream",
     "text": [
      "this is test1\n",
      "\n",
      "this is test2\n",
      "\n",
      "this is test3\n",
      "\n",
      "this is test4\n",
      "\n",
      "this is test5\n",
      "\n",
      "this is test6\n",
      "\n",
      "this is test7\n",
      "\n",
      "this is test8\n",
      "\n",
      "this is test9\n",
      "\n",
      "this is test10\n",
      "\n",
      "this is another test1\n",
      "\n",
      "this is another test2\n",
      "\n",
      "this is another test3\n",
      "\n",
      "this is another test4\n",
      "\n",
      "this is another test5\n",
      "\n",
      "this is another test6\n",
      "\n",
      "this is another test7\n",
      "\n",
      "this is another test8\n",
      "\n",
      "this is another test9\n",
      "\n",
      "this is another test10\n",
      "\n"
     ]
    }
   ],
   "source": [
    "#this is reading one line at a time and printing it\n",
    "\n",
    "if myfile.mode == 'r':\n",
    "   fileline = myfile.readline()\n",
    "while fileline:\n",
    "    print(fileline)\n",
    "    fileline = myfile.readline()\n",
    "myfile.close()\n"
   ]
  },
  {
   "cell_type": "code",
   "execution_count": null,
   "metadata": {},
   "outputs": [],
   "source": []
  }
 ],
 "metadata": {
  "kernelspec": {
   "display_name": "Python 3",
   "language": "python",
   "name": "python3"
  },
  "language_info": {
   "codemirror_mode": {
    "name": "ipython",
    "version": 3
   },
   "file_extension": ".py",
   "mimetype": "text/x-python",
   "name": "python",
   "nbconvert_exporter": "python",
   "pygments_lexer": "ipython3",
   "version": "3.6.5"
  }
 },
 "nbformat": 4,
 "nbformat_minor": 2
}
