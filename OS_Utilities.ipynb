{
 "cells": [
  {
   "cell_type": "markdown",
   "metadata": {},
   "source": [
    "# This script will use OS functionality to get info"
   ]
  },
  {
   "cell_type": "code",
   "execution_count": 35,
   "metadata": {},
   "outputs": [],
   "source": [
    "import os\n",
    "from os import path\n",
    "import datetime\n",
    "from datetime import date,time,timedelta\n",
    "import time"
   ]
  },
  {
   "cell_type": "code",
   "execution_count": 36,
   "metadata": {},
   "outputs": [
    {
     "name": "stdout",
     "output_type": "stream",
     "text": [
      "posix\n"
     ]
    }
   ],
   "source": [
    "print (os.name)"
   ]
  },
  {
   "cell_type": "code",
   "execution_count": 37,
   "metadata": {},
   "outputs": [
    {
     "name": "stdout",
     "output_type": "stream",
     "text": [
      "File exists: True\n",
      "Is it a file: True\n",
      "Is it a directory :False\n",
      "The path of the file is :/Users/rajupillai/GitHub/Python/newfile1.txt\n",
      "The path and file name is :('/Users/rajupillai/GitHub/Python', 'newfile1.txt')\n"
     ]
    }
   ],
   "source": [
    "print (\"File exists: \" + str(path.exists('newfile1.txt')))\n",
    "print (\"Is it a file: \" + str(path.isfile('newfile1.txt')))\n",
    "print (\"Is it a directory :\" + str(path.isdir('newfile1.txt')))\n",
    "print (\"The path of the file is :\" + str(path.realpath(\"newfile1.txt\")))\n",
    "print (\"The path and file name is :\" + str(path.split(path.realpath(\"newfile1.txt\"))))"
   ]
  },
  {
   "cell_type": "code",
   "execution_count": 38,
   "metadata": {},
   "outputs": [
    {
     "name": "stdout",
     "output_type": "stream",
     "text": [
      "Sun Jul 22 22:49:33 2018\n"
     ]
    }
   ],
   "source": [
    "t = time.ctime(path.getmtime('newfile1.txt'))\n",
    "print (t)"
   ]
  },
  {
   "cell_type": "code",
   "execution_count": 39,
   "metadata": {},
   "outputs": [
    {
     "name": "stdout",
     "output_type": "stream",
     "text": [
      "2018-07-22 22:49:33.866317\n"
     ]
    }
   ],
   "source": [
    "print(datetime.datetime.fromtimestamp(path.getmtime(\"newfile1.txt\")))"
   ]
  },
  {
   "cell_type": "code",
   "execution_count": 41,
   "metadata": {},
   "outputs": [
    {
     "name": "stdout",
     "output_type": "stream",
     "text": [
      "Its has been 0:10:52.913014 since the file was modified or 652.913014 seconds\n",
      "or, 652.913014 seconds\n"
     ]
    }
   ],
   "source": [
    "td = datetime.datetime.now() - datetime.datetime.fromtimestamp(path.getmtime(\"newfile1.txt\"))\n",
    "print (\"Its has been \" + str(td) + \" since the file was modified or \" + str(td.total_seconds()) + \" seconds\")"
   ]
  },
  {
   "cell_type": "code",
   "execution_count": null,
   "metadata": {},
   "outputs": [],
   "source": []
  }
 ],
 "metadata": {
  "kernelspec": {
   "display_name": "Python 3",
   "language": "python",
   "name": "python3"
  },
  "language_info": {
   "codemirror_mode": {
    "name": "ipython",
    "version": 3
   },
   "file_extension": ".py",
   "mimetype": "text/x-python",
   "name": "python",
   "nbconvert_exporter": "python",
   "pygments_lexer": "ipython3",
   "version": "3.6.5"
  }
 },
 "nbformat": 4,
 "nbformat_minor": 2
}
