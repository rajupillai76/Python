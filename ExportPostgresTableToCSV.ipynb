{
 "cells": [
  {
   "cell_type": "code",
   "execution_count": 65,
   "metadata": {},
   "outputs": [],
   "source": [
    "import psycopg2 as pg\n",
    "import csv"
   ]
  },
  {
   "cell_type": "code",
   "execution_count": 66,
   "metadata": {},
   "outputs": [],
   "source": [
    "conn = pg.connect(\"host=localhost dbname=postgres\")\n",
    "cur = conn.cursor()"
   ]
  },
  {
   "cell_type": "code",
   "execution_count": 67,
   "metadata": {},
   "outputs": [],
   "source": [
    "#export but no header\n",
    "\n",
    "with open ('/Users/a007247/Desktop/MonthlySales_fromPostGres.csv', 'w+') as csvdata:\n",
    "    cur.copy_to(csvdata,'monthlysales', sep='|')\n",
    "conn.commit()"
   ]
  },
  {
   "cell_type": "code",
   "execution_count": 68,
   "metadata": {},
   "outputs": [],
   "source": [
    "#export with header\n",
    "ProductSales = open ('/Users/a007247/Desktop/MonthlyProductSales_fromPostGres.csv', 'w+')\n",
    "export = \"copy monthlyproductsales to stdout DELIMITER '|' CSV header\"\n",
    "cur.copy_expert(export,ProductSales)\n",
    "conn.commit()"
   ]
  },
  {
   "cell_type": "code",
   "execution_count": 69,
   "metadata": {},
   "outputs": [],
   "source": [
    "#Export part of a table\n",
    "\n",
    "ProductSales = open ('/Users/a007247/Desktop/MonthlyProductSales_fromPostGres2.csv', 'w+')\n",
    "export = \"copy (select * from monthlyproductsales where sales_qty > 2500) to stdout DELIMITER ',' CSV header\"\n",
    "cur.copy_expert(export,ProductSales)\n",
    "conn.commit()"
   ]
  },
  {
   "cell_type": "code",
   "execution_count": 70,
   "metadata": {},
   "outputs": [],
   "source": [
    "conn.close()"
   ]
  }
 ],
 "metadata": {
  "kernelspec": {
   "display_name": "Python 3",
   "language": "python",
   "name": "python3"
  },
  "language_info": {
   "codemirror_mode": {
    "name": "ipython",
    "version": 3
   },
   "file_extension": ".py",
   "mimetype": "text/x-python",
   "name": "python",
   "nbconvert_exporter": "python",
   "pygments_lexer": "ipython3",
   "version": "3.6.5"
  }
 },
 "nbformat": 4,
 "nbformat_minor": 2
}
