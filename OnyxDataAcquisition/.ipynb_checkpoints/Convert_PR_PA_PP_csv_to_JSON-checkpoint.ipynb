{
 "cells": [
  {
   "cell_type": "markdown",
   "metadata": {},
   "source": [
    "this take each of the 9.5 PR,PA & PP files and converts them to JSON"
   ]
  },
  {
   "cell_type": "code",
   "execution_count": 43,
   "metadata": {},
   "outputs": [],
   "source": [
    "import pandas as pd\n",
    "from pandas import DataFrame\n",
    "#import json\n",
    "#import csv"
   ]
  },
  {
   "cell_type": "code",
   "execution_count": 44,
   "metadata": {},
   "outputs": [],
   "source": [
    "prcsvfile = open('/Users/raju.pillai/gitrepo/python/data/DataAcquisition/prdata.csv','r')\n",
    "prjsonfile = open ('/Users/raju.pillai/gitrepo/python/data/DataAcquisition/prdata.json','w+')"
   ]
  },
  {
   "cell_type": "code",
   "execution_count": 45,
   "metadata": {},
   "outputs": [],
   "source": [
    "prjsondf = DataFrame(pd.read_csv(prcsvfile, sep='|', engine='python'))"
   ]
  },
  {
   "cell_type": "code",
   "execution_count": 46,
   "metadata": {},
   "outputs": [],
   "source": [
    "export = prjsondf.to_json(prjsonfile,orient='records')"
   ]
  },
  {
   "cell_type": "code",
   "execution_count": 47,
   "metadata": {},
   "outputs": [],
   "source": [
    "prcsvfile.close()\n",
    "prjsonfile.close()\n",
    "del prjsondf          # delete the dataframe to free up memory"
   ]
  },
  {
   "cell_type": "code",
   "execution_count": 48,
   "metadata": {},
   "outputs": [],
   "source": [
    "#prjsondf.info()   # gives information regarding the dataframe"
   ]
  },
  {
   "cell_type": "code",
   "execution_count": 49,
   "metadata": {},
   "outputs": [],
   "source": [
    "pacsvfile = open('/Users/raju.pillai/gitrepo/python/data/DataAcquisition/padata.csv','r')\n",
    "pajsonfile = open ('/Users/raju.pillai/gitrepo/python/data/DataAcquisition/padata.json','w+')"
   ]
  },
  {
   "cell_type": "code",
   "execution_count": 50,
   "metadata": {},
   "outputs": [],
   "source": [
    "pajsondf = DataFrame(pd.read_csv(pacsvfile, sep='|', engine='python'))"
   ]
  },
  {
   "cell_type": "code",
   "execution_count": 51,
   "metadata": {},
   "outputs": [],
   "source": [
    "export = pajsondf.to_json(pajsonfile,orient='records')"
   ]
  },
  {
   "cell_type": "code",
   "execution_count": 52,
   "metadata": {},
   "outputs": [],
   "source": [
    "pacsvfile.close()\n",
    "pajsonfile.close()\n",
    "del pajsondf"
   ]
  },
  {
   "cell_type": "code",
   "execution_count": 53,
   "metadata": {},
   "outputs": [],
   "source": [
    "ppcsvfile = open('/Users/raju.pillai/gitrepo/python/data/DataAcquisition/ppdata.csv','r')\n",
    "ppjsonfile = open ('/Users/raju.pillai/gitrepo/python/data/DataAcquisition/ppdata.json','w+')"
   ]
  },
  {
   "cell_type": "code",
   "execution_count": 54,
   "metadata": {},
   "outputs": [],
   "source": [
    "ppjsondf = DataFrame(pd.read_csv(ppcsvfile, sep='|', engine='python'))"
   ]
  },
  {
   "cell_type": "code",
   "execution_count": 55,
   "metadata": {},
   "outputs": [],
   "source": [
    "export = ppjsondf.to_json(ppjsonfile,orient='records')"
   ]
  },
  {
   "cell_type": "code",
   "execution_count": 56,
   "metadata": {},
   "outputs": [],
   "source": [
    "ppcsvfile.close()\n",
    "ppjsonfile.close()\n",
    "del ppjsondf"
   ]
  }
 ],
 "metadata": {
  "kernelspec": {
   "display_name": "Python 3",
   "language": "python",
   "name": "python3"
  },
  "language_info": {
   "codemirror_mode": {
    "name": "ipython",
    "version": 3
   },
   "file_extension": ".py",
   "mimetype": "text/x-python",
   "name": "python",
   "nbconvert_exporter": "python",
   "pygments_lexer": "ipython3",
   "version": "3.7.3"
  }
 },
 "nbformat": 4,
 "nbformat_minor": 2
}
