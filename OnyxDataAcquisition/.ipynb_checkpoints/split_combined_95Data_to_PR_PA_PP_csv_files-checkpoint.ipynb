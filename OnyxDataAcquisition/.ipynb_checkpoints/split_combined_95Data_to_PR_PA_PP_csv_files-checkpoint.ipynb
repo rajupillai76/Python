{
 "cells": [
  {
   "cell_type": "markdown",
   "metadata": {},
   "source": [
    "# This is a one time run to convert the combined file to split into individual csv files"
   ]
  },
  {
   "cell_type": "code",
   "execution_count": 13,
   "metadata": {},
   "outputs": [],
   "source": [
    "import pandas as pd\n",
    "from pandas import DataFrame"
   ]
  },
  {
   "cell_type": "code",
   "execution_count": 14,
   "metadata": {},
   "outputs": [],
   "source": [
    "csvfile = open('/Users/raju.pillai/gitrepo/python/data/DataAcquisition/raju-95.txt','r')\n",
    "jsonfile = open('/Users/raju.pillai/gitrepo/python/data/DataAcquisition/raju-95.json','w+')"
   ]
  },
  {
   "cell_type": "code",
   "execution_count": 15,
   "metadata": {},
   "outputs": [],
   "source": [
    "jsondata = DataFrame(pd.read_csv(csvfile, sep='|', engine='python'))\n",
    "#jsondata = DataFrame(df)"
   ]
  },
  {
   "cell_type": "code",
   "execution_count": 16,
   "metadata": {},
   "outputs": [
    {
     "name": "stdout",
     "output_type": "stream",
     "text": [
      "['PR_Record_Type', 'PR_Payment_Record_Type_', 'PR_Action_Code', 'PR_Payment_Record_Number', 'PR_Brand_Code', 'PR_Chain_Property_ID', 'PR_Booking_Source_', 'PR_Chain_Confirmation_number', 'PR_Secondary_confirmation_number', 'PR_Chain_Cancellation_Number', 'PR_Cancellation_origination_code', 'PR_Corporate_ID_Number', 'PR_ARC_IATA_Number', 'PR_Group_Guest_Last_Name', 'PR_Group_Guest_First_Name', 'PR_PNR_Number', 'PR_GNR_Number', 'PR_GNR_sequence_number', 'PR_Record_Status_Code', 'PR_Record_Reason_Code', 'PR_Arrival_Date', 'PR_Departure_Date', 'PR_Booking_Date', 'PR_Room_Type', 'PR_Number_of_Nights', 'PR_Number_of_Rooms', 'PR_CommissionableRevenue', 'PR_Gross_Commission_Due', 'PR_Adjustment_Amount', 'PR_Net_Commision_Due', 'PR_Commision_Percentage', 'PR_Commision_Flat_Amount', 'PR_Transaction_Currency_Code', 'PR_Total_Tax_Records', 'PR_Total_Tax_Amount', 'PR_Rate_plan_code', 'PR_Promotion_Code', 'PR_Filler', 'PA_Record_Type', 'PA_Payment_Record_Number', 'PA_Brand_Code', 'PA_Agency_Name', 'PA_Agency_Address_1', 'PA_Agency_Address_2', 'PA_Agency_Address_3', 'PA_Agency_City', 'PA_Agency_State_Province_Code', 'PA_Agency_Country_Code', 'PA_Agency_Postal_Code', 'PA_Agency_Phone_Number', 'PA_Agency_Payment_Currency', 'PA_Filler', 'PP_Record_Type', 'PP_Payment_Record_Number', 'PP_Brand_Code', 'PP_Report_ID', 'PP_Surrogate_Number', 'PP_Parent_Child_Indicator', 'PP_Affiliation_of_TA', 'PP_Primary_source_code', 'PP_Secondary_source_code', 'PP_Invoice_flag', 'PP_Commission_processing_flag', 'PP_Grouping_ID', 'PP_Third_party_fee_invoice_code', 'PP_Third_party_fee_amount_USD', 'PP_Category_ID', 'Unnamed: 67']\n"
     ]
    }
   ],
   "source": [
    "print (list(jsondata.columns))"
   ]
  },
  {
   "cell_type": "code",
   "execution_count": 17,
   "metadata": {},
   "outputs": [],
   "source": [
    "prdata = jsondata[['PR_Record_Type', 'PR_Payment_Record_Type_', 'PR_Action_Code', 'PR_Payment_Record_Number', 'PR_Brand_Code', 'PR_Chain_Property_ID', 'PR_Booking_Source_', 'PR_Chain_Confirmation_number', 'PR_Secondary_confirmation_number', 'PR_Chain_Cancellation_Number', 'PR_Cancellation_origination_code', 'PR_Corporate_ID_Number', 'PR_ARC_IATA_Number', 'PR_Group_Guest_Last_Name', 'PR_Group_Guest_First_Name', 'PR_PNR_Number', 'PR_GNR_Number', 'PR_GNR_sequence_number', 'PR_Record_Status_Code', 'PR_Record_Reason_Code', 'PR_Arrival_Date', 'PR_Departure_Date', 'PR_Booking_Date', 'PR_Room_Type', 'PR_Number_of_Nights', 'PR_Number_of_Rooms', 'PR_CommissionableRevenue', 'PR_Gross_Commission_Due', 'PR_Adjustment_Amount', 'PR_Net_Commision_Due', 'PR_Commision_Percentage', 'PR_Commision_Flat_Amount', 'PR_Transaction_Currency_Code', 'PR_Total_Tax_Records', 'PR_Total_Tax_Amount', 'PR_Rate_plan_code', 'PR_Promotion_Code']]"
   ]
  },
  {
   "cell_type": "code",
   "execution_count": 18,
   "metadata": {},
   "outputs": [],
   "source": [
    "padata = jsondata[['PA_Record_Type', 'PA_Payment_Record_Number', 'PA_Brand_Code', 'PA_Agency_Name', 'PA_Agency_Address_1', 'PA_Agency_Address_2', 'PA_Agency_Address_3', 'PA_Agency_City', 'PA_Agency_State_Province_Code', 'PA_Agency_Country_Code', 'PA_Agency_Postal_Code', 'PA_Agency_Phone_Number', 'PA_Agency_Payment_Currency']]"
   ]
  },
  {
   "cell_type": "code",
   "execution_count": 19,
   "metadata": {},
   "outputs": [],
   "source": [
    "ppdata = jsondata[['PP_Record_Type', 'PP_Payment_Record_Number', 'PP_Brand_Code', 'PP_Report_ID', 'PP_Surrogate_Number', 'PP_Parent_Child_Indicator', 'PP_Affiliation_of_TA', 'PP_Primary_source_code', 'PP_Secondary_source_code', 'PP_Invoice_flag', 'PP_Commission_processing_flag', 'PP_Grouping_ID', 'PP_Third_party_fee_invoice_code', 'PP_Third_party_fee_amount_USD', 'PP_Category_ID']]"
   ]
  },
  {
   "cell_type": "code",
   "execution_count": 20,
   "metadata": {},
   "outputs": [],
   "source": [
    "#print(prdata)"
   ]
  },
  {
   "cell_type": "code",
   "execution_count": 21,
   "metadata": {},
   "outputs": [],
   "source": [
    "#print(padata)"
   ]
  },
  {
   "cell_type": "code",
   "execution_count": 22,
   "metadata": {},
   "outputs": [],
   "source": [
    "#print(ppdata)"
   ]
  },
  {
   "cell_type": "code",
   "execution_count": 23,
   "metadata": {},
   "outputs": [],
   "source": [
    "export = jsondata.to_json(jsonfile,orient='records', lines=True)"
   ]
  },
  {
   "cell_type": "code",
   "execution_count": 24,
   "metadata": {},
   "outputs": [],
   "source": [
    "prcsv = open ('/Users/raju.pillai/gitrepo/python/data/DataAcquisition/prdata.csv','w+')\n",
    "pacsv = open ('/Users/raju.pillai/gitrepo/python/data/DataAcquisition/padata.csv','w+')\n",
    "ppcsv = open ('/Users/raju.pillai/gitrepo/python/data/DataAcquisition/ppdata.csv','w+')"
   ]
  },
  {
   "cell_type": "code",
   "execution_count": 25,
   "metadata": {},
   "outputs": [],
   "source": [
    "export_pr_csv = prdata.to_csv(prcsv, sep= '|', index=None, header=True)\n",
    "export_pa_csv = padata.to_csv(pacsv, sep= '|', index=None, header=True)\n",
    "export_pp_csv = ppdata.to_csv(ppcsv, sep= '|', index=None, header=True)"
   ]
  },
  {
   "cell_type": "code",
   "execution_count": 26,
   "metadata": {},
   "outputs": [
    {
     "name": "stdout",
     "output_type": "stream",
     "text": [
      "['PR_Record_Type', 'PR_Payment_Record_Type_', 'PR_Action_Code', 'PR_Payment_Record_Number', 'PR_Brand_Code', 'PR_Chain_Property_ID', 'PR_Booking_Source_', 'PR_Chain_Confirmation_number', 'PR_Secondary_confirmation_number', 'PR_Chain_Cancellation_Number', 'PR_Cancellation_origination_code', 'PR_Corporate_ID_Number', 'PR_ARC_IATA_Number', 'PR_Group_Guest_Last_Name', 'PR_Group_Guest_First_Name', 'PR_PNR_Number', 'PR_GNR_Number', 'PR_GNR_sequence_number', 'PR_Record_Status_Code', 'PR_Record_Reason_Code', 'PR_Arrival_Date', 'PR_Departure_Date', 'PR_Booking_Date', 'PR_Room_Type', 'PR_Number_of_Nights', 'PR_Number_of_Rooms', 'PR_CommissionableRevenue', 'PR_Gross_Commission_Due', 'PR_Adjustment_Amount', 'PR_Net_Commision_Due', 'PR_Commision_Percentage', 'PR_Commision_Flat_Amount', 'PR_Transaction_Currency_Code', 'PR_Total_Tax_Records', 'PR_Total_Tax_Amount', 'PR_Rate_plan_code', 'PR_Promotion_Code', 'PR_Filler', 'PA_Record_Type', 'PA_Payment_Record_Number', 'PA_Brand_Code', 'PA_Agency_Name', 'PA_Agency_Address_1', 'PA_Agency_Address_2', 'PA_Agency_Address_3', 'PA_Agency_City', 'PA_Agency_State_Province_Code', 'PA_Agency_Country_Code', 'PA_Agency_Postal_Code', 'PA_Agency_Phone_Number', 'PA_Agency_Payment_Currency', 'PA_Filler', 'PP_Record_Type', 'PP_Payment_Record_Number', 'PP_Brand_Code', 'PP_Report_ID', 'PP_Surrogate_Number', 'PP_Parent_Child_Indicator', 'PP_Affiliation_of_TA', 'PP_Primary_source_code', 'PP_Secondary_source_code', 'PP_Invoice_flag', 'PP_Commission_processing_flag', 'PP_Grouping_ID', 'PP_Third_party_fee_invoice_code', 'PP_Third_party_fee_amount_USD', 'PP_Category_ID', 'Unnamed: 67']\n"
     ]
    }
   ],
   "source": [
    "print (list(jsondata.columns))"
   ]
  },
  {
   "cell_type": "code",
   "execution_count": 29,
   "metadata": {},
   "outputs": [
    {
     "data": {
      "text/plain": [
       "HOTWIRE INC                                    522\n",
       "HELMSBRISCOE PERFORMANCE GROUPINC.             202\n",
       "THE ETRAVEL COMPANY (PTY) LTD                  131\n",
       "LEXYL TRAVEL TECHNOLOGIES LLC                   93\n",
       "ARTHUR J. GALLAGHER                             79\n",
       "GBT US LLC                                      77\n",
       "TRAVEL MARVELZ LLC                              66\n",
       "HOTELGUIDES.COM, INC.                           59\n",
       "TRAVELERS HAVEN, LLC                            43\n",
       "SELECT HOTEL MANAGEMENT INC.                    43\n",
       "CW WORLDWIDE MEETINGS INC.                      42\n",
       "PRICELINE.COM INCORPORATED                      40\n",
       "TRAVEL ONE INC                                  33\n",
       "BCD TRAVEL USA LLC                              31\n",
       "NHI-2, LLC                                      28\n",
       "SUPERIOR TRAVEL SERVICES INC                    25\n",
       "CARLSON WAGONLIT TRAVEL INC                     25\n",
       "World Freerunning Parkour Federation            24\n",
       "ENTERTAINMENT PUBLICATIONS                      24\n",
       "TOURIST BUREAU MARKETING INC.                   24\n",
       "IHFRA                                           21\n",
       "EGENCIA LLC                                     20\n",
       "MAYO CLINIC                                     19\n",
       "CW GOVERNMENT TRAVEL INC                        19\n",
       "HALPERN TRAVEL, LLC                             18\n",
       "TRAVEL & TRANSPORT INC                          17\n",
       "NEW WORLD TRAVEL INC                            16\n",
       "FOX WORLD TRAVEL INC                            15\n",
       "PROFESSIONAL TRAVEL INC                         15\n",
       "BENEPLACE, INC.                                 15\n",
       "                                              ... \n",
       "OMEGA WORLD TRAVEL INC                           1\n",
       "GLOBAL TRAVEL INTERNATIONAL INC                  1\n",
       "TRAVELTIME SERVICES INC                          1\n",
       "VIA EGENCIA FARSUND REISEBYRA AS                 1\n",
       "AAA NORTHWAY INC                                 1\n",
       "AMEX CANADA INC.                                 1\n",
       "MELISSA KAE HANS                                 1\n",
       "CORPORATE TRAVEL SALES BUREAU INC                1\n",
       "GERBER TOURS INC                                 1\n",
       "TARY'S TRAVELS S.A.                              1\n",
       "LET'S GO TRAVEL INC.                             1\n",
       "FINDLAY AUTOMOBILE CLUB                          1\n",
       "TRAVEL AND TRANSPORT INC                         1\n",
       "HURLEY TRAVEL EXPERTS INC                        1\n",
       "CORPORATE RELOCATION SPECIALIST                  1\n",
       "HAINES HOTEL SERVICES GROUPL.L.C.                1\n",
       "FT TRAVEL INC                                    1\n",
       "BELLINGHAM TVL SVC INC                           1\n",
       "ALTIS MANAGEMENT LLC                             1\n",
       "INSPIRED RETREATS LTD.                           1\n",
       "THE GROUP TOUR COMPANY INC.                      1\n",
       "ACCOMMODATION ASSIST, INC                        1\n",
       "VACACIONES DISENADAS TERRANOVAS.A.               1\n",
       "JESSIKA TOURS                                    1\n",
       "AAA HAWAII LLC                                   1\n",
       "CALIFORNIA STATE AUTO ASSOC                      1\n",
       "GLOBETROTTER TRAVEL MANAGEMENT SERVICES INC      1\n",
       "CONFERENCE & TRAVEL SVCS INC                     1\n",
       "LIVETRAVEL INC                                   1\n",
       "Jett Travel LLC                                  1\n",
       "Name: PA_Agency_Name, Length: 201, dtype: int64"
      ]
     },
     "execution_count": 29,
     "metadata": {},
     "output_type": "execute_result"
    }
   ],
   "source": [
    "jsondata[\"PA_Agency_Name\"].value_counts()"
   ]
  },
  {
   "cell_type": "code",
   "execution_count": 30,
   "metadata": {},
   "outputs": [
    {
     "data": {
      "text/plain": [
       "PR    2300\n",
       "Name: PR_Record_Type, dtype: int64"
      ]
     },
     "execution_count": 30,
     "metadata": {},
     "output_type": "execute_result"
    }
   ],
   "source": [
    "jsondata[\"PR_Record_Type\"].value_counts()"
   ]
  },
  {
   "cell_type": "code",
   "execution_count": null,
   "metadata": {},
   "outputs": [],
   "source": []
  }
 ],
 "metadata": {
  "kernelspec": {
   "display_name": "Python 3",
   "language": "python",
   "name": "python3"
  },
  "language_info": {
   "codemirror_mode": {
    "name": "ipython",
    "version": 3
   },
   "file_extension": ".py",
   "mimetype": "text/x-python",
   "name": "python",
   "nbconvert_exporter": "python",
   "pygments_lexer": "ipython3",
   "version": "3.7.3"
  }
 },
 "nbformat": 4,
 "nbformat_minor": 2
}
