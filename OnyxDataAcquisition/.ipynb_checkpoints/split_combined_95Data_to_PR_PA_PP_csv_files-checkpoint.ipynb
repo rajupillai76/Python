{
 "cells": [
  {
   "cell_type": "markdown",
   "metadata": {},
   "source": [
    "# This is a one time run to convert the combined file to split into individual csv files"
   ]
  },
  {
   "cell_type": "code",
   "execution_count": 58,
   "metadata": {},
   "outputs": [],
   "source": [
    "import pandas as pd\n",
    "from pandas import DataFrame"
   ]
  },
  {
   "cell_type": "code",
   "execution_count": 59,
   "metadata": {},
   "outputs": [],
   "source": [
    "csvfile = open('/Users/raju.pillai/gitrepo/python/data/DataAcquisition/source/old/PR1807251056.in','r')\n",
    "jsonfile = open('/Users/raju.pillai/gitrepo/python/data/DataAcquisition/output/json/PR1807251056-95.json','w+')"
   ]
  },
  {
   "cell_type": "code",
   "execution_count": 60,
   "metadata": {},
   "outputs": [
    {
     "ename": "ValueError",
     "evalue": "Unable to convert column PR_Arrival_Date to type <class 'int'>",
     "output_type": "error",
     "traceback": [
      "\u001b[0;31m---------------------------------------------------------------------------\u001b[0m",
      "\u001b[0;31mValueError\u001b[0m                                Traceback (most recent call last)",
      "\u001b[0;32m//anaconda3/lib/python3.7/site-packages/pandas/io/parsers.py\u001b[0m in \u001b[0;36m_cast_types\u001b[0;34m(self, values, cast_type, column)\u001b[0m\n\u001b[1;32m   1865\u001b[0m             \u001b[0;32mtry\u001b[0m\u001b[0;34m:\u001b[0m\u001b[0;34m\u001b[0m\u001b[0;34m\u001b[0m\u001b[0m\n\u001b[0;32m-> 1866\u001b[0;31m                 \u001b[0mvalues\u001b[0m \u001b[0;34m=\u001b[0m \u001b[0mastype_nansafe\u001b[0m\u001b[0;34m(\u001b[0m\u001b[0mvalues\u001b[0m\u001b[0;34m,\u001b[0m \u001b[0mcast_type\u001b[0m\u001b[0;34m,\u001b[0m \u001b[0mcopy\u001b[0m\u001b[0;34m=\u001b[0m\u001b[0;32mTrue\u001b[0m\u001b[0;34m,\u001b[0m \u001b[0mskipna\u001b[0m\u001b[0;34m=\u001b[0m\u001b[0;32mTrue\u001b[0m\u001b[0;34m)\u001b[0m\u001b[0;34m\u001b[0m\u001b[0;34m\u001b[0m\u001b[0m\n\u001b[0m\u001b[1;32m   1867\u001b[0m             \u001b[0;32mexcept\u001b[0m \u001b[0mValueError\u001b[0m\u001b[0;34m:\u001b[0m\u001b[0;34m\u001b[0m\u001b[0;34m\u001b[0m\u001b[0m\n",
      "\u001b[0;32m//anaconda3/lib/python3.7/site-packages/pandas/core/dtypes/cast.py\u001b[0m in \u001b[0;36mastype_nansafe\u001b[0;34m(arr, dtype, copy, skipna)\u001b[0m\n\u001b[1;32m    699\u001b[0m             raise ValueError(\n\u001b[0;32m--> 700\u001b[0;31m                 \u001b[0;34m\"Cannot convert non-finite values (NA or inf) to \"\u001b[0m \u001b[0;34m\"integer\"\u001b[0m\u001b[0;34m\u001b[0m\u001b[0;34m\u001b[0m\u001b[0m\n\u001b[0m\u001b[1;32m    701\u001b[0m             )\n",
      "\u001b[0;31mValueError\u001b[0m: Cannot convert non-finite values (NA or inf) to integer",
      "\nDuring handling of the above exception, another exception occurred:\n",
      "\u001b[0;31mValueError\u001b[0m                                Traceback (most recent call last)",
      "\u001b[0;32m<ipython-input-60-f495804d65a5>\u001b[0m in \u001b[0;36m<module>\u001b[0;34m\u001b[0m\n\u001b[0;32m----> 1\u001b[0;31m \u001b[0mjsondata\u001b[0m \u001b[0;34m=\u001b[0m \u001b[0mDataFrame\u001b[0m\u001b[0;34m(\u001b[0m\u001b[0mpd\u001b[0m\u001b[0;34m.\u001b[0m\u001b[0mread_csv\u001b[0m\u001b[0;34m(\u001b[0m\u001b[0mcsvfile\u001b[0m\u001b[0;34m,\u001b[0m \u001b[0msep\u001b[0m\u001b[0;34m=\u001b[0m\u001b[0;34m'|'\u001b[0m\u001b[0;34m,\u001b[0m \u001b[0mengine\u001b[0m\u001b[0;34m=\u001b[0m\u001b[0;34m'python'\u001b[0m\u001b[0;34m,\u001b[0m \u001b[0mdtype\u001b[0m\u001b[0;34m=\u001b[0m\u001b[0;34m{\u001b[0m\u001b[0;34m'PR_Arrival_Date'\u001b[0m\u001b[0;34m:\u001b[0m \u001b[0mint\u001b[0m\u001b[0;34m}\u001b[0m\u001b[0;34m)\u001b[0m\u001b[0;34m)\u001b[0m\u001b[0;34m\u001b[0m\u001b[0;34m\u001b[0m\u001b[0m\n\u001b[0m",
      "\u001b[0;32m//anaconda3/lib/python3.7/site-packages/pandas/io/parsers.py\u001b[0m in \u001b[0;36mparser_f\u001b[0;34m(filepath_or_buffer, sep, delimiter, header, names, index_col, usecols, squeeze, prefix, mangle_dupe_cols, dtype, engine, converters, true_values, false_values, skipinitialspace, skiprows, skipfooter, nrows, na_values, keep_default_na, na_filter, verbose, skip_blank_lines, parse_dates, infer_datetime_format, keep_date_col, date_parser, dayfirst, cache_dates, iterator, chunksize, compression, thousands, decimal, lineterminator, quotechar, quoting, doublequote, escapechar, comment, encoding, dialect, error_bad_lines, warn_bad_lines, delim_whitespace, low_memory, memory_map, float_precision)\u001b[0m\n\u001b[1;32m    683\u001b[0m         )\n\u001b[1;32m    684\u001b[0m \u001b[0;34m\u001b[0m\u001b[0m\n\u001b[0;32m--> 685\u001b[0;31m         \u001b[0;32mreturn\u001b[0m \u001b[0m_read\u001b[0m\u001b[0;34m(\u001b[0m\u001b[0mfilepath_or_buffer\u001b[0m\u001b[0;34m,\u001b[0m \u001b[0mkwds\u001b[0m\u001b[0;34m)\u001b[0m\u001b[0;34m\u001b[0m\u001b[0;34m\u001b[0m\u001b[0m\n\u001b[0m\u001b[1;32m    686\u001b[0m \u001b[0;34m\u001b[0m\u001b[0m\n\u001b[1;32m    687\u001b[0m     \u001b[0mparser_f\u001b[0m\u001b[0;34m.\u001b[0m\u001b[0m__name__\u001b[0m \u001b[0;34m=\u001b[0m \u001b[0mname\u001b[0m\u001b[0;34m\u001b[0m\u001b[0;34m\u001b[0m\u001b[0m\n",
      "\u001b[0;32m//anaconda3/lib/python3.7/site-packages/pandas/io/parsers.py\u001b[0m in \u001b[0;36m_read\u001b[0;34m(filepath_or_buffer, kwds)\u001b[0m\n\u001b[1;32m    461\u001b[0m \u001b[0;34m\u001b[0m\u001b[0m\n\u001b[1;32m    462\u001b[0m     \u001b[0;32mtry\u001b[0m\u001b[0;34m:\u001b[0m\u001b[0;34m\u001b[0m\u001b[0;34m\u001b[0m\u001b[0m\n\u001b[0;32m--> 463\u001b[0;31m         \u001b[0mdata\u001b[0m \u001b[0;34m=\u001b[0m \u001b[0mparser\u001b[0m\u001b[0;34m.\u001b[0m\u001b[0mread\u001b[0m\u001b[0;34m(\u001b[0m\u001b[0mnrows\u001b[0m\u001b[0;34m)\u001b[0m\u001b[0;34m\u001b[0m\u001b[0;34m\u001b[0m\u001b[0m\n\u001b[0m\u001b[1;32m    464\u001b[0m     \u001b[0;32mfinally\u001b[0m\u001b[0;34m:\u001b[0m\u001b[0;34m\u001b[0m\u001b[0;34m\u001b[0m\u001b[0m\n\u001b[1;32m    465\u001b[0m         \u001b[0mparser\u001b[0m\u001b[0;34m.\u001b[0m\u001b[0mclose\u001b[0m\u001b[0;34m(\u001b[0m\u001b[0;34m)\u001b[0m\u001b[0;34m\u001b[0m\u001b[0;34m\u001b[0m\u001b[0m\n",
      "\u001b[0;32m//anaconda3/lib/python3.7/site-packages/pandas/io/parsers.py\u001b[0m in \u001b[0;36mread\u001b[0;34m(self, nrows)\u001b[0m\n\u001b[1;32m   1152\u001b[0m     \u001b[0;32mdef\u001b[0m \u001b[0mread\u001b[0m\u001b[0;34m(\u001b[0m\u001b[0mself\u001b[0m\u001b[0;34m,\u001b[0m \u001b[0mnrows\u001b[0m\u001b[0;34m=\u001b[0m\u001b[0;32mNone\u001b[0m\u001b[0;34m)\u001b[0m\u001b[0;34m:\u001b[0m\u001b[0;34m\u001b[0m\u001b[0;34m\u001b[0m\u001b[0m\n\u001b[1;32m   1153\u001b[0m         \u001b[0mnrows\u001b[0m \u001b[0;34m=\u001b[0m \u001b[0m_validate_integer\u001b[0m\u001b[0;34m(\u001b[0m\u001b[0;34m\"nrows\"\u001b[0m\u001b[0;34m,\u001b[0m \u001b[0mnrows\u001b[0m\u001b[0;34m)\u001b[0m\u001b[0;34m\u001b[0m\u001b[0;34m\u001b[0m\u001b[0m\n\u001b[0;32m-> 1154\u001b[0;31m         \u001b[0mret\u001b[0m \u001b[0;34m=\u001b[0m \u001b[0mself\u001b[0m\u001b[0;34m.\u001b[0m\u001b[0m_engine\u001b[0m\u001b[0;34m.\u001b[0m\u001b[0mread\u001b[0m\u001b[0;34m(\u001b[0m\u001b[0mnrows\u001b[0m\u001b[0;34m)\u001b[0m\u001b[0;34m\u001b[0m\u001b[0;34m\u001b[0m\u001b[0m\n\u001b[0m\u001b[1;32m   1155\u001b[0m \u001b[0;34m\u001b[0m\u001b[0m\n\u001b[1;32m   1156\u001b[0m         \u001b[0;31m# May alter columns / col_dict\u001b[0m\u001b[0;34m\u001b[0m\u001b[0;34m\u001b[0m\u001b[0;34m\u001b[0m\u001b[0m\n",
      "\u001b[0;32m//anaconda3/lib/python3.7/site-packages/pandas/io/parsers.py\u001b[0m in \u001b[0;36mread\u001b[0;34m(self, rows)\u001b[0m\n\u001b[1;32m   2497\u001b[0m         \u001b[0mcolumns\u001b[0m\u001b[0;34m,\u001b[0m \u001b[0mdata\u001b[0m \u001b[0;34m=\u001b[0m \u001b[0mself\u001b[0m\u001b[0;34m.\u001b[0m\u001b[0m_do_date_conversions\u001b[0m\u001b[0;34m(\u001b[0m\u001b[0mcolumns\u001b[0m\u001b[0;34m,\u001b[0m \u001b[0mdata\u001b[0m\u001b[0;34m)\u001b[0m\u001b[0;34m\u001b[0m\u001b[0;34m\u001b[0m\u001b[0m\n\u001b[1;32m   2498\u001b[0m \u001b[0;34m\u001b[0m\u001b[0m\n\u001b[0;32m-> 2499\u001b[0;31m         \u001b[0mdata\u001b[0m \u001b[0;34m=\u001b[0m \u001b[0mself\u001b[0m\u001b[0;34m.\u001b[0m\u001b[0m_convert_data\u001b[0m\u001b[0;34m(\u001b[0m\u001b[0mdata\u001b[0m\u001b[0;34m)\u001b[0m\u001b[0;34m\u001b[0m\u001b[0;34m\u001b[0m\u001b[0m\n\u001b[0m\u001b[1;32m   2500\u001b[0m         \u001b[0mindex\u001b[0m\u001b[0;34m,\u001b[0m \u001b[0mcolumns\u001b[0m \u001b[0;34m=\u001b[0m \u001b[0mself\u001b[0m\u001b[0;34m.\u001b[0m\u001b[0m_make_index\u001b[0m\u001b[0;34m(\u001b[0m\u001b[0mdata\u001b[0m\u001b[0;34m,\u001b[0m \u001b[0malldata\u001b[0m\u001b[0;34m,\u001b[0m \u001b[0mcolumns\u001b[0m\u001b[0;34m,\u001b[0m \u001b[0mindexnamerow\u001b[0m\u001b[0;34m)\u001b[0m\u001b[0;34m\u001b[0m\u001b[0;34m\u001b[0m\u001b[0m\n\u001b[1;32m   2501\u001b[0m \u001b[0;34m\u001b[0m\u001b[0m\n",
      "\u001b[0;32m//anaconda3/lib/python3.7/site-packages/pandas/io/parsers.py\u001b[0m in \u001b[0;36m_convert_data\u001b[0;34m(self, data)\u001b[0m\n\u001b[1;32m   2567\u001b[0m             \u001b[0mself\u001b[0m\u001b[0;34m.\u001b[0m\u001b[0mverbose\u001b[0m\u001b[0;34m,\u001b[0m\u001b[0;34m\u001b[0m\u001b[0;34m\u001b[0m\u001b[0m\n\u001b[1;32m   2568\u001b[0m             \u001b[0mclean_conv\u001b[0m\u001b[0;34m,\u001b[0m\u001b[0;34m\u001b[0m\u001b[0;34m\u001b[0m\u001b[0m\n\u001b[0;32m-> 2569\u001b[0;31m             \u001b[0mclean_dtypes\u001b[0m\u001b[0;34m,\u001b[0m\u001b[0;34m\u001b[0m\u001b[0;34m\u001b[0m\u001b[0m\n\u001b[0m\u001b[1;32m   2570\u001b[0m         )\n\u001b[1;32m   2571\u001b[0m \u001b[0;34m\u001b[0m\u001b[0m\n",
      "\u001b[0;32m//anaconda3/lib/python3.7/site-packages/pandas/io/parsers.py\u001b[0m in \u001b[0;36m_convert_to_ndarrays\u001b[0;34m(self, dct, na_values, na_fvalues, verbose, converters, dtypes)\u001b[0m\n\u001b[1;32m   1755\u001b[0m                         \u001b[0;31m# invalid input to is_bool_dtype\u001b[0m\u001b[0;34m\u001b[0m\u001b[0;34m\u001b[0m\u001b[0;34m\u001b[0m\u001b[0m\n\u001b[1;32m   1756\u001b[0m                         \u001b[0;32mpass\u001b[0m\u001b[0;34m\u001b[0m\u001b[0;34m\u001b[0m\u001b[0m\n\u001b[0;32m-> 1757\u001b[0;31m                     \u001b[0mcvals\u001b[0m \u001b[0;34m=\u001b[0m \u001b[0mself\u001b[0m\u001b[0;34m.\u001b[0m\u001b[0m_cast_types\u001b[0m\u001b[0;34m(\u001b[0m\u001b[0mcvals\u001b[0m\u001b[0;34m,\u001b[0m \u001b[0mcast_type\u001b[0m\u001b[0;34m,\u001b[0m \u001b[0mc\u001b[0m\u001b[0;34m)\u001b[0m\u001b[0;34m\u001b[0m\u001b[0;34m\u001b[0m\u001b[0m\n\u001b[0m\u001b[1;32m   1758\u001b[0m \u001b[0;34m\u001b[0m\u001b[0m\n\u001b[1;32m   1759\u001b[0m             \u001b[0mresult\u001b[0m\u001b[0;34m[\u001b[0m\u001b[0mc\u001b[0m\u001b[0;34m]\u001b[0m \u001b[0;34m=\u001b[0m \u001b[0mcvals\u001b[0m\u001b[0;34m\u001b[0m\u001b[0;34m\u001b[0m\u001b[0m\n",
      "\u001b[0;32m//anaconda3/lib/python3.7/site-packages/pandas/io/parsers.py\u001b[0m in \u001b[0;36m_cast_types\u001b[0;34m(self, values, cast_type, column)\u001b[0m\n\u001b[1;32m   1868\u001b[0m                 raise ValueError(\n\u001b[1;32m   1869\u001b[0m                     \u001b[0;34m\"Unable to convert column {column} to type \"\u001b[0m\u001b[0;34m\u001b[0m\u001b[0;34m\u001b[0m\u001b[0m\n\u001b[0;32m-> 1870\u001b[0;31m                     \u001b[0;34m\"{cast_type}\"\u001b[0m\u001b[0;34m.\u001b[0m\u001b[0mformat\u001b[0m\u001b[0;34m(\u001b[0m\u001b[0mcolumn\u001b[0m\u001b[0;34m=\u001b[0m\u001b[0mcolumn\u001b[0m\u001b[0;34m,\u001b[0m \u001b[0mcast_type\u001b[0m\u001b[0;34m=\u001b[0m\u001b[0mcast_type\u001b[0m\u001b[0;34m)\u001b[0m\u001b[0;34m\u001b[0m\u001b[0;34m\u001b[0m\u001b[0m\n\u001b[0m\u001b[1;32m   1871\u001b[0m                 )\n\u001b[1;32m   1872\u001b[0m         \u001b[0;32mreturn\u001b[0m \u001b[0mvalues\u001b[0m\u001b[0;34m\u001b[0m\u001b[0;34m\u001b[0m\u001b[0m\n",
      "\u001b[0;31mValueError\u001b[0m: Unable to convert column PR_Arrival_Date to type <class 'int'>"
     ]
    }
   ],
   "source": [
    "jsondata = DataFrame(pd.read_csv(csvfile, sep='|', engine='python', dtype={'PR_Arrival_Date': int}))"
   ]
  },
  {
   "cell_type": "code",
   "execution_count": 57,
   "metadata": {},
   "outputs": [
    {
     "data": {
      "text/plain": [
       "PR_Record_Type                      object\n",
       "PR_Payment_Record_Type              object\n",
       "PR_Action_Code                      object\n",
       "PR_Payment_Record_Number            object\n",
       "PR_Brand_Code                       object\n",
       "                                    ...   \n",
       "PP_Grouping_ID                     float64\n",
       "PP_Third_party_fee_invoice_code     object\n",
       "PP_Third_party_fee_amount_USD      float64\n",
       "PP_Category_ID                      object\n",
       "Unnamed: 67                        float64\n",
       "Length: 68, dtype: object"
      ]
     },
     "execution_count": 57,
     "metadata": {},
     "output_type": "execute_result"
    }
   ],
   "source": [
    "jsondata.dtypes"
   ]
  },
  {
   "cell_type": "code",
   "execution_count": 33,
   "metadata": {},
   "outputs": [],
   "source": [
    "jsondata.PR_Arrival_Date = jsondata.PR_Arrival_Date.astype(str)"
   ]
  },
  {
   "cell_type": "code",
   "execution_count": 34,
   "metadata": {},
   "outputs": [
    {
     "name": "stdout",
     "output_type": "stream",
     "text": [
      "['PR_Record_Type', 'PR_Payment_Record_Type', 'PR_Action_Code', 'PR_Payment_Record_Number', 'PR_Brand_Code', 'PR_Chain_Property_ID', 'PR_Booking_Source_', 'PR_Chain_Confirmation_number', 'PR_Secondary_confirmation_number', 'PR_Chain_Cancellation_Number', 'PR_Cancellation_origination_code', 'PR_Corporate_ID_Number', 'PR_ARC_IATA_Number', 'PR_Group_Guest_Last_Name', 'PR_Group_Guest_First_Name', 'PR_PNR_Number', 'PR_GNR_Number', 'PR_GNR_sequence_number', 'PR_Record_Status_Code', 'PR_Record_Reason_Code', 'PR_Arrival_Date', 'PR_Departure_Date', 'PR_Booking_Date', 'PR_Room_Type', 'PR_Number_of_Nights', 'PR_Number_of_Rooms', 'PR_CommissionableRevenue', 'PR_Gross_Commission_Due', 'PR_Adjustment_Amount', 'PR_Net_Commision_Due', 'PR_Commision_Percentage', 'PR_Commision_Flat_Amount', 'PR_Transaction_Currency_Code', 'PR_Total_Tax_Records', 'PR_Total_Tax_Amount', 'PR_Rate_plan_code', 'PR_Promotion_Code', 'PR_Filler', 'PA_Record_Type', 'PA_Payment_Record_Number', 'PA_Brand_Code', 'PA_Agency_Name', 'PA_Agency_Address_1', 'PA_Agency_Address_2', 'PA_Agency_Address_3', 'PA_Agency_City', 'PA_Agency_State_Province_Code', 'PA_Agency_Country_Code', 'PA_Agency_Postal_Code', 'PA_Agency_Phone_Number', 'PA_Agency_Payment_Currency', 'PA_Filler', 'PP_Record_Type', 'PP_Payment_Record_Number', 'PP_Brand_Code', 'PP_Report_ID', 'PP_Surrogate_Number', 'PP_Parent_Child_Indicator', 'PP_Affiliation_of_TA', 'PP_Primary_source_code', 'PP_Secondary_source_code', 'PP_Invoice_flag', 'PP_Commission_processing_flag', 'PP_Grouping_ID', 'PP_Third_party_fee_invoice_code', 'PP_Third_party_fee_amount_USD', 'PP_Category_ID', 'Unnamed: 67']\n"
     ]
    }
   ],
   "source": [
    "print (list(jsondata.columns))"
   ]
  },
  {
   "cell_type": "code",
   "execution_count": 35,
   "metadata": {},
   "outputs": [],
   "source": [
    "prdata = jsondata[['PR_Record_Type', 'PR_Payment_Record_Type', 'PR_Action_Code', 'PR_Payment_Record_Number', 'PR_Brand_Code', 'PR_Chain_Property_ID', 'PR_Booking_Source_', 'PR_Chain_Confirmation_number', 'PR_Secondary_confirmation_number', 'PR_Chain_Cancellation_Number', 'PR_Cancellation_origination_code', 'PR_Corporate_ID_Number', 'PR_ARC_IATA_Number', 'PR_Group_Guest_Last_Name', 'PR_Group_Guest_First_Name', 'PR_PNR_Number', 'PR_GNR_Number', 'PR_GNR_sequence_number', 'PR_Record_Status_Code', 'PR_Record_Reason_Code', 'PR_Arrival_Date', 'PR_Departure_Date', 'PR_Booking_Date', 'PR_Room_Type', 'PR_Number_of_Nights', 'PR_Number_of_Rooms', 'PR_CommissionableRevenue', 'PR_Gross_Commission_Due', 'PR_Adjustment_Amount', 'PR_Net_Commision_Due', 'PR_Commision_Percentage', 'PR_Commision_Flat_Amount', 'PR_Transaction_Currency_Code', 'PR_Total_Tax_Records', 'PR_Total_Tax_Amount', 'PR_Rate_plan_code', 'PR_Promotion_Code']]"
   ]
  },
  {
   "cell_type": "code",
   "execution_count": 36,
   "metadata": {},
   "outputs": [],
   "source": [
    "padata = jsondata[['PA_Record_Type', 'PA_Payment_Record_Number', 'PA_Brand_Code', 'PA_Agency_Name', 'PA_Agency_Address_1', 'PA_Agency_Address_2', 'PA_Agency_Address_3', 'PA_Agency_City', 'PA_Agency_State_Province_Code', 'PA_Agency_Country_Code', 'PA_Agency_Postal_Code', 'PA_Agency_Phone_Number', 'PA_Agency_Payment_Currency']]"
   ]
  },
  {
   "cell_type": "code",
   "execution_count": 37,
   "metadata": {},
   "outputs": [],
   "source": [
    "ppdata = jsondata[['PP_Record_Type', 'PP_Payment_Record_Number', 'PP_Brand_Code', 'PP_Report_ID', 'PP_Surrogate_Number', 'PP_Parent_Child_Indicator', 'PP_Affiliation_of_TA', 'PP_Primary_source_code', 'PP_Secondary_source_code', 'PP_Invoice_flag', 'PP_Commission_processing_flag', 'PP_Grouping_ID', 'PP_Third_party_fee_invoice_code', 'PP_Third_party_fee_amount_USD', 'PP_Category_ID']]"
   ]
  },
  {
   "cell_type": "code",
   "execution_count": 38,
   "metadata": {},
   "outputs": [],
   "source": [
    "#print(prdata)"
   ]
  },
  {
   "cell_type": "code",
   "execution_count": 39,
   "metadata": {},
   "outputs": [],
   "source": [
    "#print(padata)"
   ]
  },
  {
   "cell_type": "code",
   "execution_count": 40,
   "metadata": {},
   "outputs": [],
   "source": [
    "#print(ppdata)"
   ]
  },
  {
   "cell_type": "code",
   "execution_count": 41,
   "metadata": {},
   "outputs": [],
   "source": [
    "#export the whole file to a json\n",
    "export = jsondata.to_json(jsonfile,orient='records', lines=True)"
   ]
  },
  {
   "cell_type": "code",
   "execution_count": 12,
   "metadata": {},
   "outputs": [],
   "source": [
    "prcsv = open ('/Users/raju.pillai/gitrepo/python/data/DataAcquisition/output/csv/PR1807251056.csv','w+')\n",
    "pacsv = open ('/Users/raju.pillai/gitrepo/python/data/DataAcquisition/output/csv/PA1807251056.csv','w+')\n",
    "ppcsv = open ('/Users/raju.pillai/gitrepo/python/data/DataAcquisition/output/csv/PP1807251056.csv','w+')"
   ]
  },
  {
   "cell_type": "code",
   "execution_count": 13,
   "metadata": {},
   "outputs": [],
   "source": [
    "export_pr_csv = prdata.to_csv(prcsv, sep= '|', index=None, header=True)\n",
    "export_pa_csv = padata.to_csv(pacsv, sep= '|', index=None, header=True)\n",
    "export_pp_csv = ppdata.to_csv(ppcsv, sep= '|', index=None, header=True)"
   ]
  },
  {
   "cell_type": "code",
   "execution_count": 14,
   "metadata": {},
   "outputs": [
    {
     "name": "stdout",
     "output_type": "stream",
     "text": [
      "['PR_Record_Type', 'PR_Payment_Record_Type', 'PR_Action_Code', 'PR_Payment_Record_Number', 'PR_Brand_Code', 'PR_Chain_Property_ID', 'PR_Booking_Source_', 'PR_Chain_Confirmation_number', 'PR_Secondary_confirmation_number', 'PR_Chain_Cancellation_Number', 'PR_Cancellation_origination_code', 'PR_Corporate_ID_Number', 'PR_ARC_IATA_Number', 'PR_Group_Guest_Last_Name', 'PR_Group_Guest_First_Name', 'PR_PNR_Number', 'PR_GNR_Number', 'PR_GNR_sequence_number', 'PR_Record_Status_Code', 'PR_Record_Reason_Code', 'PR_Arrival_Date', 'PR_Departure_Date', 'PR_Booking_Date', 'PR_Room_Type', 'PR_Number_of_Nights', 'PR_Number_of_Rooms', 'PR_CommissionableRevenue', 'PR_Gross_Commission_Due', 'PR_Adjustment_Amount', 'PR_Net_Commision_Due', 'PR_Commision_Percentage', 'PR_Commision_Flat_Amount', 'PR_Transaction_Currency_Code', 'PR_Total_Tax_Records', 'PR_Total_Tax_Amount', 'PR_Rate_plan_code', 'PR_Promotion_Code', 'PR_Filler', 'PA_Record_Type', 'PA_Payment_Record_Number', 'PA_Brand_Code', 'PA_Agency_Name', 'PA_Agency_Address_1', 'PA_Agency_Address_2', 'PA_Agency_Address_3', 'PA_Agency_City', 'PA_Agency_State_Province_Code', 'PA_Agency_Country_Code', 'PA_Agency_Postal_Code', 'PA_Agency_Phone_Number', 'PA_Agency_Payment_Currency', 'PA_Filler', 'PP_Record_Type', 'PP_Payment_Record_Number', 'PP_Brand_Code', 'PP_Report_ID', 'PP_Surrogate_Number', 'PP_Parent_Child_Indicator', 'PP_Affiliation_of_TA', 'PP_Primary_source_code', 'PP_Secondary_source_code', 'PP_Invoice_flag', 'PP_Commission_processing_flag', 'PP_Grouping_ID', 'PP_Third_party_fee_invoice_code', 'PP_Third_party_fee_amount_USD', 'PP_Category_ID', 'Unnamed: 67']\n"
     ]
    }
   ],
   "source": [
    "#print (list(jsondata.columns))"
   ]
  },
  {
   "cell_type": "code",
   "execution_count": 19,
   "metadata": {},
   "outputs": [],
   "source": [
    "#jsondata[\"PA_Agency_Name\"].value_counts()"
   ]
  },
  {
   "cell_type": "code",
   "execution_count": 20,
   "metadata": {},
   "outputs": [],
   "source": [
    "#jsondata[\"PR_Record_Type\"].value_counts()"
   ]
  },
  {
   "cell_type": "code",
   "execution_count": null,
   "metadata": {},
   "outputs": [],
   "source": []
  },
  {
   "cell_type": "code",
   "execution_count": null,
   "metadata": {},
   "outputs": [],
   "source": []
  }
 ],
 "metadata": {
  "kernelspec": {
   "display_name": "Python 3",
   "language": "python",
   "name": "python3"
  },
  "language_info": {
   "codemirror_mode": {
    "name": "ipython",
    "version": 3
   },
   "file_extension": ".py",
   "mimetype": "text/x-python",
   "name": "python",
   "nbconvert_exporter": "python",
   "pygments_lexer": "ipython3",
   "version": "3.7.3"
  }
 },
 "nbformat": 4,
 "nbformat_minor": 2
}
