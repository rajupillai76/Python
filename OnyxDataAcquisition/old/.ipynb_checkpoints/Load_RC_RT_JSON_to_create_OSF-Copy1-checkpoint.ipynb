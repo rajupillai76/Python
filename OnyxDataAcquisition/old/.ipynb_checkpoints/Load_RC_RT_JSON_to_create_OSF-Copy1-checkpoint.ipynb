{
 "cells": [
  {
   "cell_type": "code",
   "execution_count": 171,
   "metadata": {},
   "outputs": [],
   "source": [
    "import pandas as pd\n",
    "from pandas import DataFrame\n",
    "import pyarrow as pa\n",
    "import pyarrow.parquet as pq"
   ]
  },
  {
   "cell_type": "code",
   "execution_count": 172,
   "metadata": {},
   "outputs": [],
   "source": [
    "rcjsonfile = open('/Users/raju.pillai/gitrepo/python/data/DataAcquisition/output/json/rc711data.json','r')\n",
    "rtjsonfile = open('/Users/raju.pillai/gitrepo/python/data/DataAcquisition/output/json/rt711data.json','r')"
   ]
  },
  {
   "cell_type": "code",
   "execution_count": 173,
   "metadata": {},
   "outputs": [],
   "source": [
    "rcjsondf = DataFrame(pd.read_json(rcjsonfile))"
   ]
  },
  {
   "cell_type": "code",
   "execution_count": 174,
   "metadata": {},
   "outputs": [],
   "source": [
    "ts = pd.Timestamp(year = 2011,  month = 11, day = 21, \n",
    "           hour = 10, second = 49, tz = 'US/Central') "
   ]
  },
  {
   "cell_type": "code",
   "execution_count": 175,
   "metadata": {},
   "outputs": [],
   "source": [
    "#rcjsondf.columns"
   ]
  },
  {
   "cell_type": "code",
   "execution_count": 176,
   "metadata": {},
   "outputs": [],
   "source": [
    "rcjsondf['File_Source'] = 'Geco'\n",
    "rcjsondf['File_Timestamp'] = ts.now()"
   ]
  },
  {
   "cell_type": "code",
   "execution_count": 177,
   "metadata": {},
   "outputs": [],
   "source": [
    "#Adding non applicable columns\n",
    "rcjsondf['Payment_Record_Type'] = ''\n",
    "rcjsondf['Secondary_Confirmation_Number'] = ''\n",
    "rcjsondf['Cancellation_Origination_Code'] = ''\n",
    "rcjsondf['GNR_Number'] = ''\n",
    "rcjsondf['GNR_Sequence_Number'] = ''\n",
    "rcjsondf['Booking_Date'] = ''\n",
    "rcjsondf['Room_Type'] = ''\n",
    "rcjsondf['Commission_Flat_Amount'] = ''\n",
    "rcjsondf['Promotion_Code'] = ''\n",
    "rcjsondf['Agency_Address_3'] = ''\n",
    "rcjsondf['Parent_Child_Indicator'] = ''\n",
    "rcjsondf['Affiliation_Of_TA'] = ''\n",
    "rcjsondf['Primary_Source_Code'] = ''\n",
    "rcjsondf['Secondary_Source_Code'] = ''\n",
    "rcjsondf['Invoice_Flag'] = ' '\n",
    "rcjsondf['Commission_Processing_Flag'] = ' '\n",
    "rcjsondf['Grouping_ID'] = ''\n",
    "rcjsondf['Third_Party_Fee_Invoice_Code'] = ''\n",
    "rcjsondf['Third_Party_Fee_Amount_USD'] = ''\n",
    "rcjsondf['Category_ID'] = ''\n"
   ]
  },
  {
   "cell_type": "code",
   "execution_count": 178,
   "metadata": {},
   "outputs": [],
   "source": [
    "osfdata = (rcjsondf[[\n",
    "  'File_Source'\n",
    "#, 'File_Timestamp'\n",
    ", 'Payment_Record_Type'\n",
    ", 'Action_Code'\n",
    ", 'Reported_Commission_Record_Number'\n",
    ", 'Brand_Code'\n",
    ", 'Chain_Property_ID'\n",
    ", 'Booking_Source'\n",
    ", 'Chain_Confirmation_Number'\n",
    ", 'Secondary_Confirmation_Number'\n",
    ", 'Chain_Cancellation_Number'\n",
    ", 'Cancellation_Origination_Code'\n",
    ", 'Corporate_ID_Number'\n",
    ", 'ARC_IATA_Number'\n",
    ", 'Group_Guest_Last_Name'\n",
    ", 'Group_Guest_First_Name'\n",
    ", 'PNR_Number'\n",
    ", 'GNR_Number'\n",
    ", 'GNR_Sequence_Number'\n",
    ", 'Record_Status_Code'\n",
    ", 'Record_Reason_Code'\n",
    ", 'Arrival_Date'\n",
    ", 'Departure_Date'\n",
    ", 'Booking_Date'\n",
    ", 'Room_Type'\n",
    ", 'Number_of_Nights'\n",
    ", 'Number_of_Rooms'\n",
    ", 'Commissionable_Revenue'\n",
    ", 'Gross_Commission_Due'\n",
    ", 'Adjustment_Amount'\n",
    ", 'Net_Commission_Due'\n",
    ", 'Commission_Percentage'\n",
    ", 'Commission_Flat_Amount'\n",
    ", 'Transaction_Currency_Code'\n",
    ", 'Total_Tax_Records'\n",
    ", 'Total_Tax_Amount'\n",
    ", 'Rate_Plan'\n",
    ", 'Promotion_Code'\n",
    ", 'Agency_Name'\n",
    ", 'Agency_Address_1'\n",
    ", 'Agency_Address_2'\n",
    ", 'Agency_Address_3'\n",
    ", 'Agency_City'\n",
    ", 'Agency_State_Province_Code'\n",
    ", 'Agency_Country_Code'\n",
    ", 'Agency_Postal_Code'\n",
    ", 'Agency_Phone_Number'\n",
    ", 'Agency_Payment_Currency'\n",
    ", 'Report_ID'\n",
    ", 'Surrogate_Number'\n",
    ", 'Parent_Child_Indicator'\n",
    ", 'Affiliation_Of_TA'\n",
    ", 'Primary_Source_Code'\n",
    ", 'Secondary_Source_Code'\n",
    ", 'Invoice_Flag'\n",
    ", 'Commission_Processing_Flag'\n",
    ", 'Grouping_ID'\n",
    ", 'Third_Party_Fee_Invoice_Code'\n",
    ", 'Third_Party_Fee_Amount_USD'\n",
    ", 'Category_ID'\n",
    ", 'GDS_Confirmation_Number'\n",
    "]])"
   ]
  },
  {
   "cell_type": "code",
   "execution_count": 179,
   "metadata": {},
   "outputs": [],
   "source": [
    "osfdata.rename(columns=\n",
    "{'Reported_Commission_Record_Number' : 'Payment_Record_Number'},inplace=True)"
   ]
  },
  {
   "cell_type": "code",
   "execution_count": 180,
   "metadata": {},
   "outputs": [],
   "source": [
    "osfdata = osfdata.astype(str)"
   ]
  },
  {
   "cell_type": "code",
   "execution_count": 181,
   "metadata": {},
   "outputs": [],
   "source": [
    "osfdata.to_parquet(fname = '/Users/raju.pillai/gitrepo/python/data/DataAcquisition/output/pqt/osfdata_part_parquet2',partition_cols=['Brand_Code'], compression='none')"
   ]
  },
  {
   "cell_type": "code",
   "execution_count": 182,
   "metadata": {},
   "outputs": [],
   "source": [
    "df = pd.read_parquet('/Users/raju.pillai/gitrepo/python/data/DataAcquisition/output/pqt/osfdata_part_parquet2')"
   ]
  },
  {
   "cell_type": "code",
   "execution_count": 183,
   "metadata": {},
   "outputs": [
    {
     "data": {
      "text/plain": [
       "EX    194\n",
       "HI    136\n",
       "CP     44\n",
       "IN     24\n",
       "BC      1\n",
       "AB      1\n",
       "Name: Brand_Code, dtype: int64"
      ]
     },
     "execution_count": 183,
     "metadata": {},
     "output_type": "execute_result"
    }
   ],
   "source": [
    "df[\"Brand_Code\"].value_counts()"
   ]
  },
  {
   "cell_type": "code",
   "execution_count": 170,
   "metadata": {},
   "outputs": [
    {
     "data": {
      "text/plain": [
       "File_Source                        object\n",
       "Payment_Record_Type                object\n",
       "Action_Code                        object\n",
       "Payment_Record_Number              object\n",
       "Chain_Property_ID                  object\n",
       "Booking_Source                     object\n",
       "Chain_Confirmation_Number          object\n",
       "Secondary_Confirmation_Number      object\n",
       "Chain_Cancellation_Number          object\n",
       "Cancellation_Origination_Code      object\n",
       "Corporate_ID_Number                object\n",
       "ARC_IATA_Number                    object\n",
       "Group_Guest_Last_Name              object\n",
       "Group_Guest_First_Name             object\n",
       "PNR_Number                         object\n",
       "GNR_Number                         object\n",
       "GNR_Sequence_Number                object\n",
       "Record_Status_Code                 object\n",
       "Record_Reason_Code                 object\n",
       "Arrival_Date                       object\n",
       "Departure_Date                     object\n",
       "Booking_Date                       object\n",
       "Room_Type                          object\n",
       "Number_of_Nights                   object\n",
       "Number_of_Rooms                    object\n",
       "Commissionable_Revenue             object\n",
       "Gross_Commission_Due               object\n",
       "Adjustment_Amount                  object\n",
       "Net_Commission_Due                 object\n",
       "Commission_Percentage              object\n",
       "Commission_Flat_Amount             object\n",
       "Transaction_Currency_Code          object\n",
       "Total_Tax_Records                  object\n",
       "Total_Tax_Amount                   object\n",
       "Rate_Plan                          object\n",
       "Promotion_Code                     object\n",
       "Agency_Name                        object\n",
       "Agency_Address_1                   object\n",
       "Agency_Address_2                   object\n",
       "Agency_Address_3                   object\n",
       "Agency_City                        object\n",
       "Agency_State_Province_Code         object\n",
       "Agency_Country_Code                object\n",
       "Agency_Postal_Code                 object\n",
       "Agency_Phone_Number                object\n",
       "Agency_Payment_Currency            object\n",
       "Report_ID                          object\n",
       "Surrogate_Number                   object\n",
       "Parent_Child_Indicator             object\n",
       "Affiliation_Of_TA                  object\n",
       "Primary_Source_Code                object\n",
       "Secondary_Source_Code              object\n",
       "Invoice_Flag                       object\n",
       "Commission_Processing_Flag         object\n",
       "Grouping_ID                        object\n",
       "Third_Party_Fee_Invoice_Code       object\n",
       "Third_Party_Fee_Amount_USD         object\n",
       "Category_ID                        object\n",
       "GDS_Confirmation_Number            object\n",
       "Brand_Code                       category\n",
       "dtype: object"
      ]
     },
     "execution_count": 170,
     "metadata": {},
     "output_type": "execute_result"
    }
   ],
   "source": [
    "df.dtypes"
   ]
  },
  {
   "cell_type": "code",
   "execution_count": null,
   "metadata": {},
   "outputs": [],
   "source": []
  },
  {
   "cell_type": "code",
   "execution_count": null,
   "metadata": {},
   "outputs": [],
   "source": []
  },
  {
   "cell_type": "code",
   "execution_count": null,
   "metadata": {},
   "outputs": [],
   "source": []
  }
 ],
 "metadata": {
  "kernelspec": {
   "display_name": "Python 3",
   "language": "python",
   "name": "python3"
  },
  "language_info": {
   "codemirror_mode": {
    "name": "ipython",
    "version": 3
   },
   "file_extension": ".py",
   "mimetype": "text/x-python",
   "name": "python",
   "nbconvert_exporter": "python",
   "pygments_lexer": "ipython3",
   "version": "3.7.3"
  }
 },
 "nbformat": 4,
 "nbformat_minor": 2
}
