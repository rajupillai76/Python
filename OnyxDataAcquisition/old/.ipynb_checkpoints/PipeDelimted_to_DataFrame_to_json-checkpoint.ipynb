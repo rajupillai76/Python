{
 "cells": [
  {
   "cell_type": "code",
   "execution_count": 75,
   "metadata": {},
   "outputs": [],
   "source": [
    "import pandas as pd\n",
    "from pandas import DataFrame"
   ]
  },
  {
   "cell_type": "code",
   "execution_count": 76,
   "metadata": {},
   "outputs": [],
   "source": [
    "csvfile = open('/Users/raju.pillai/gitrepo/python/data/DataAcquisition/raju-95.txt','r')\n",
    "jsonfile = open ('/Users/raju.pillai/gitrepo/python/data/DataAcquisition/raju-95.json','w+')"
   ]
  },
  {
   "cell_type": "code",
   "execution_count": 77,
   "metadata": {},
   "outputs": [],
   "source": [
    "#def main():\n",
    " \n",
    "#   print(' *** Using pandas.read_csv() with Custom delimiter ***')\n",
    " \n",
    "   # Read a csv file to a dataframe with custom delimiter\n",
    "#   usersDf =  pd.read_csv(csvfile, sep='|'  , engine='python')\n",
    " \n",
    "#   print('Contents of Dataframe : ')\n",
    "#   print(usersDf)\n",
    " \n",
    "#   print('********')\n",
    "\n",
    " #if __name__ == '__main__':\n",
    "#   main()    "
   ]
  },
  {
   "cell_type": "code",
   "execution_count": 78,
   "metadata": {},
   "outputs": [],
   "source": [
    "#df = pd.read_csv(csvfile, sep='|', engine='python')\n",
    "#print (df)"
   ]
  },
  {
   "cell_type": "code",
   "execution_count": 79,
   "metadata": {},
   "outputs": [],
   "source": [
    "#columnHeader = list(df.columns)\n",
    "#print (columnHeader)"
   ]
  },
  {
   "cell_type": "code",
   "execution_count": 80,
   "metadata": {},
   "outputs": [],
   "source": [
    "jsondata = DataFrame(pd.read_csv(csvfile, sep='|', engine='python'))\n",
    "#jsondata = DataFrame(df)"
   ]
  },
  {
   "cell_type": "code",
   "execution_count": 81,
   "metadata": {},
   "outputs": [],
   "source": [
    "prdata = jsondata[['Record Type', 'Payment Record Type ', 'Action Code', 'Payment Record Number', 'Brand Code', \"Chain's Property ID\", 'Booking Source ', 'Chain Confirmation number', 'Secondary confirmation number', 'Chain Cancellation Number', 'Cancellation origination code', 'Corporate ID Number', 'ARC/IATA Number', 'Group/Guest Last Name', 'Group/Guest First Name', 'PNR Number', 'GNR Number', 'GNR sequence number', 'Record Status Code', 'Record Reason Code', 'Arrival Date', 'Departure Date', 'Booking Date', 'Room Type', 'Number of Nights', 'Number of Rooms', 'CommissionableRevenue', 'Gross Commission Due', 'Adjustment Amount', 'Net Commision Due', 'Commision Percentage', 'Commision Flat Amount', 'Transaction Currency Code', 'Total Tax Records', 'Total Tax Amount', 'Rate plan code', 'Promotion Code']]"
   ]
  },
  {
   "cell_type": "code",
   "execution_count": 82,
   "metadata": {},
   "outputs": [],
   "source": [
    "padata = jsondata[['Record Type.1', 'Payment Record Number.1', 'Brand Code.1', 'Agency Name', 'Agency Address 1', 'Agency Address 2', 'Agency Address 3', 'Agency City', 'Agency State/Province Code', 'Agency Country Code', 'Agency Postal Code', 'Agency Phone Number', 'Agency Payment Currency']]"
   ]
  },
  {
   "cell_type": "code",
   "execution_count": 83,
   "metadata": {},
   "outputs": [],
   "source": [
    "ppdata = jsondata[['Record Type.2', 'Payment Record Number.2', 'Brand Code.2', 'Report ID', 'Surrogate Number', 'Parent/Child Indicator', 'Affiliation of TA', 'Primary source code', 'Secondary source code', 'Invoice flag', 'Commission processing flag', 'Grouping ID', 'Third party fee invoice code', 'Third party fee amount USD', 'Category ID']]"
   ]
  },
  {
   "cell_type": "code",
   "execution_count": 84,
   "metadata": {},
   "outputs": [],
   "source": [
    "#print(prdata)"
   ]
  },
  {
   "cell_type": "code",
   "execution_count": 85,
   "metadata": {},
   "outputs": [],
   "source": [
    "#print(padata)"
   ]
  },
  {
   "cell_type": "code",
   "execution_count": 86,
   "metadata": {},
   "outputs": [],
   "source": [
    "#print(ppdata)"
   ]
  },
  {
   "cell_type": "code",
   "execution_count": 87,
   "metadata": {},
   "outputs": [],
   "source": [
    "export = jsondata.to_json(jsonfile,orient='records', lines=True)"
   ]
  },
  {
   "cell_type": "code",
   "execution_count": 88,
   "metadata": {},
   "outputs": [],
   "source": [
    "prcsv = open ('/Users/raju.pillai/gitrepo/python/data/DataAcquisition/prdata.csv','w+')\n",
    "pacsv = open ('/Users/raju.pillai/gitrepo/python/data/DataAcquisition/padata.csv','w+')\n",
    "ppcsv = open ('/Users/raju.pillai/gitrepo/python/data/DataAcquisition/ppdata.csv','w+')"
   ]
  },
  {
   "cell_type": "code",
   "execution_count": 89,
   "metadata": {},
   "outputs": [],
   "source": [
    "export_pr_csv = prdata.to_csv(prcsv, sep= '|', index=None, header=True)\n",
    "export_pa_csv = padata.to_csv(pacsv, sep= '|', index=None, header=True)\n",
    "export_pp_csv = ppdata.to_csv(ppcsv, sep= '|', index=None, header=True)"
   ]
  },
  {
   "cell_type": "code",
   "execution_count": 24,
   "metadata": {},
   "outputs": [
    {
     "name": "stdout",
     "output_type": "stream",
     "text": [
      "['Record Type', 'Payment Record Type ', 'Action Code', 'Payment Record Number', 'Brand Code', \"Chain's Property ID\", 'Booking Source ', 'Chain Confirmation number', 'Secondary confirmation number', 'Chain Cancellation Number', 'Cancellation origination code', 'Corporate ID Number', 'ARC/IATA Number', 'Group/Guest Last Name', 'Group/Guest First Name', 'PNR Number', 'GNR Number', 'GNR sequence number', 'Record Status Code', 'Record Reason Code', 'Arrival Date', 'Departure Date', 'Booking Date', 'Room Type', 'Number of Nights', 'Number of Rooms', 'CommissionableRevenue', 'Gross Commission Due', 'Adjustment Amount', 'Net Commision Due', 'Commision Percentage', 'Commision Flat Amount', 'Transaction Currency Code', 'Total Tax Records', 'Total Tax Amount', 'Rate plan code', 'Promotion Code', 'Filler', 'Record Type.1', 'Payment Record Number.1', 'Brand Code.1', 'Agency Name', 'Agency Address 1', 'Agency Address 2', 'Agency Address 3', 'Agency City', 'Agency State/Province Code', 'Agency Country Code', 'Agency Postal Code', 'Agency Phone Number', 'Agency Payment Currency', 'Filler.1', 'Record Type.2', 'Payment Record Number.2', 'Brand Code.2', 'Report ID', 'Surrogate Number', 'Parent/Child Indicator', 'Affiliation of TA', 'Primary source code', 'Secondary source code', 'Invoice flag', 'Commission processing flag', 'Grouping ID', 'Third party fee invoice code', 'Third party fee amount USD', 'Category ID', 'Unnamed: 67']\n"
     ]
    }
   ],
   "source": [
    "print (list(jsondata.columns))"
   ]
  },
  {
   "cell_type": "code",
   "execution_count": 25,
   "metadata": {},
   "outputs": [
    {
     "data": {
      "text/plain": [
       "HOTWIRE INC                                    522\n",
       "HELMSBRISCOE PERFORMANCE GROUPINC.             202\n",
       "THE ETRAVEL COMPANY (PTY) LTD                  131\n",
       "LEXYL TRAVEL TECHNOLOGIES LLC                   93\n",
       "ARTHUR J. GALLAGHER                             79\n",
       "GBT US LLC                                      77\n",
       "TRAVEL MARVELZ LLC                              66\n",
       "HOTELGUIDES.COM, INC.                           59\n",
       "SELECT HOTEL MANAGEMENT INC.                    43\n",
       "TRAVELERS HAVEN, LLC                            43\n",
       "CW WORLDWIDE MEETINGS INC.                      42\n",
       "PRICELINE.COM INCORPORATED                      40\n",
       "TRAVEL ONE INC                                  33\n",
       "BCD TRAVEL USA LLC                              31\n",
       "NHI-2, LLC                                      28\n",
       "CARLSON WAGONLIT TRAVEL INC                     25\n",
       "SUPERIOR TRAVEL SERVICES INC                    25\n",
       "ENTERTAINMENT PUBLICATIONS                      24\n",
       "TOURIST BUREAU MARKETING INC.                   24\n",
       "World Freerunning Parkour Federation            24\n",
       "IHFRA                                           21\n",
       "EGENCIA LLC                                     20\n",
       "MAYO CLINIC                                     19\n",
       "CW GOVERNMENT TRAVEL INC                        19\n",
       "HALPERN TRAVEL, LLC                             18\n",
       "TRAVEL & TRANSPORT INC                          17\n",
       "NEW WORLD TRAVEL INC                            16\n",
       "PROFESSIONAL TRAVEL INC                         15\n",
       "BENEPLACE, INC.                                 15\n",
       "FOX WORLD TRAVEL INC                            15\n",
       "                                              ... \n",
       "BLUE RIBBON BUSINESS TVL INTL INC                1\n",
       "THE GROUP TOUR COMPANY INC.                      1\n",
       "VACACIONES DISENADAS TERRANOVAS.A.               1\n",
       "HOGG ROBINSON GERMANYGMBH & CO. KG               1\n",
       "CERNER CORPORATION                               1\n",
       "ATLAS WORLD CLASS TRAVEL                         1\n",
       "GLOBETROTTER TRAVEL MANAGEMENT SERVICES INC      1\n",
       "AMEX CANADA INC.                                 1\n",
       "CORPORATE TRAVEL SALES BUREAU INC                1\n",
       "BARBIZON USA LLC                                 1\n",
       "PRESCRIPTION FOR TRAVEL                          1\n",
       "TRAVEL AND TRANSPORT INC                         1\n",
       "ACCOMMODATION ASSIST, INC                        1\n",
       "YUSEN TRAVEL(U S A) INC                          1\n",
       "BUSINESS TRAVEL INC                              1\n",
       "CONSTELLIS MANAGEMENT SERVICES LLC               1\n",
       "UNITED HEALTHCARE SERVICES INC                   1\n",
       "GLOBAL TRAVEL INTERNATIONAL INC                  1\n",
       "A J TRAVEL INC                                   1\n",
       "ALEXANDER TRAVEL LTD                             1\n",
       "VIA EGENCIA FARSUND REISEBYRA AS                 1\n",
       "LIVETRAVEL INC                                   1\n",
       "R & B REALTY GROUP                               1\n",
       "AAA NORTHWEST OHIO                               1\n",
       "GROUP HOUSING.NET LLC                            1\n",
       "HOGG ROBINSON (TRAVEL) LTD                       1\n",
       "TRAVELTIME SERVICES INC                          1\n",
       "AAA NORTHWAY INC                                 1\n",
       "TRAVEL WORLD INC                                 1\n",
       "TRAVELTRUST CORP                                 1\n",
       "Name: Agency Name, Length: 201, dtype: int64"
      ]
     },
     "execution_count": 25,
     "metadata": {},
     "output_type": "execute_result"
    }
   ],
   "source": [
    "jsondata[\"Agency Name\"].value_counts()"
   ]
  },
  {
   "cell_type": "code",
   "execution_count": 26,
   "metadata": {},
   "outputs": [
    {
     "data": {
      "text/plain": [
       "PR    2300\n",
       "Name: Record Type, dtype: int64"
      ]
     },
     "execution_count": 26,
     "metadata": {},
     "output_type": "execute_result"
    }
   ],
   "source": [
    "jsondata[\"Record Type\"].value_counts()"
   ]
  }
 ],
 "metadata": {
  "kernelspec": {
   "display_name": "Python 3",
   "language": "python",
   "name": "python3"
  },
  "language_info": {
   "codemirror_mode": {
    "name": "ipython",
    "version": 3
   },
   "file_extension": ".py",
   "mimetype": "text/x-python",
   "name": "python",
   "nbconvert_exporter": "python",
   "pygments_lexer": "ipython3",
   "version": "3.7.3"
  }
 },
 "nbformat": 4,
 "nbformat_minor": 2
}
