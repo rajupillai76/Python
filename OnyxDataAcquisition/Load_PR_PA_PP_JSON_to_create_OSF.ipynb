{
 "cells": [
  {
   "cell_type": "code",
   "execution_count": 1,
   "metadata": {},
   "outputs": [],
   "source": [
    "import pandas as pd\n",
    "from pandas import DataFrame\n",
    "import pyarrow as pa\n",
    "import pyarrow.parquet as pq\n",
    "from datetime import datetime"
   ]
  },
  {
   "cell_type": "code",
   "execution_count": 2,
   "metadata": {},
   "outputs": [],
   "source": [
    "prjsonfile = open('/Users/raju.pillai/gitrepo/python/data/DataAcquisition/output/json/PR1807251056.json','r')\n",
    "pajsonfile = open('/Users/raju.pillai/gitrepo/python/data/DataAcquisition/output/json/PA1807251056.json','r')\n",
    "ppjsonfile = open('/Users/raju.pillai/gitrepo/python/data/DataAcquisition/output/json/PP1807251056.json','r')"
   ]
  },
  {
   "cell_type": "code",
   "execution_count": 3,
   "metadata": {},
   "outputs": [],
   "source": [
    "prjsondf = DataFrame(pd.read_json(prjsonfile))"
   ]
  },
  {
   "cell_type": "code",
   "execution_count": 4,
   "metadata": {},
   "outputs": [],
   "source": [
    "pajsondf = DataFrame(pd.read_json(pajsonfile))"
   ]
  },
  {
   "cell_type": "code",
   "execution_count": 5,
   "metadata": {},
   "outputs": [],
   "source": [
    "ppjsondf = DataFrame(pd.read_json(ppjsonfile))"
   ]
  },
  {
   "cell_type": "code",
   "execution_count": 6,
   "metadata": {},
   "outputs": [],
   "source": [
    "pr_pa_combined_df = pd.merge(prjsondf, pajsondf, left_on='PR_Payment_Record_Number', right_on='PA_Payment_Record_Number', how='outer')"
   ]
  },
  {
   "cell_type": "code",
   "execution_count": 7,
   "metadata": {},
   "outputs": [],
   "source": [
    "pr_pa_pp_combined_df = pd.merge(pr_pa_combined_df, ppjsondf, left_on='PR_Payment_Record_Number', right_on='PP_Payment_Record_Number', how='outer' )"
   ]
  },
  {
   "cell_type": "code",
   "execution_count": 8,
   "metadata": {},
   "outputs": [],
   "source": [
    "now = datetime.now().strftime('%Y-%m-%d %H:%M:%S')\n",
    "pr_pa_pp_combined_df['File_Source'] = 'Cash-95'\n",
    "pr_pa_pp_combined_df['File_Timestamp'] = now"
   ]
  },
  {
   "cell_type": "code",
   "execution_count": 9,
   "metadata": {},
   "outputs": [],
   "source": [
    "#Adding non applicable columns\n",
    "pr_pa_pp_combined_df['GDS_Confirmation_Number'] = ''\n",
    "pr_pa_pp_combined_df['Record_Type'] = ''"
   ]
  },
  {
   "cell_type": "code",
   "execution_count": 10,
   "metadata": {},
   "outputs": [],
   "source": [
    "osfdata = (pr_pa_pp_combined_df[[\n",
    " 'File_Source'\n",
    ",'File_Timestamp'\n",
    ",'Record_Type'\n",
    ",'PR_Payment_Record_Type'\n",
    ",'PR_Action_Code'\n",
    ",'PR_Payment_Record_Number'\n",
    ",'PR_Brand_Code'\n",
    ",'PR_Chain_Property_ID'\n",
    ",'PR_Booking_Source_'\n",
    ",'PR_Chain_Confirmation_number'\n",
    ",'PR_Secondary_confirmation_number'\n",
    ",'PR_Chain_Cancellation_Number'\n",
    ",'PR_Cancellation_origination_code'\n",
    ",'PR_Corporate_ID_Number'\n",
    ",'PR_ARC_IATA_Number'\n",
    ",'PR_Group_Guest_Last_Name'\n",
    ",'PR_Group_Guest_First_Name'\n",
    ",'PR_PNR_Number'\n",
    ",'PR_GNR_Number'\n",
    ",'PR_GNR_sequence_number'\n",
    ",'PR_Record_Status_Code'\n",
    ",'PR_Record_Reason_Code'\n",
    ",'PR_Arrival_Date'\n",
    ",'PR_Departure_Date'\n",
    ",'PR_Booking_Date'\n",
    ",'PR_Room_Type'\n",
    ",'PR_Number_of_Nights'\n",
    ",'PR_Number_of_Rooms'\n",
    ",'PR_CommissionableRevenue'\n",
    ",'PR_Gross_Commission_Due'\n",
    ",'PR_Adjustment_Amount'\n",
    ",'PR_Net_Commision_Due'\n",
    ",'PR_Commision_Percentage'\n",
    ",'PR_Commision_Flat_Amount'\n",
    ",'PR_Transaction_Currency_Code'\n",
    ",'PR_Total_Tax_Records'\n",
    ",'PR_Total_Tax_Amount'\n",
    ",'PR_Rate_plan_code'\n",
    ",'PR_Promotion_Code'\n",
    ",'PA_Agency_Name'\n",
    ",'PA_Agency_Address_1'\n",
    ",'PA_Agency_Address_2'\n",
    ",'PA_Agency_Address_3'\n",
    ",'PA_Agency_City'\n",
    ",'PA_Agency_State_Province_Code'\n",
    ",'PA_Agency_Country_Code'\n",
    ",'PA_Agency_Postal_Code'\n",
    ",'PA_Agency_Phone_Number'\n",
    ",'PA_Agency_Payment_Currency'\n",
    ",'PP_Report_ID'\n",
    ",'PP_Surrogate_Number'\n",
    ",'PP_Parent_Child_Indicator'\n",
    ",'PP_Affiliation_of_TA'\n",
    ",'PP_Primary_source_code'\n",
    ",'PP_Secondary_source_code'\n",
    ",'PP_Invoice_flag'\n",
    ",'PP_Commission_processing_flag'\n",
    ",'PP_Grouping_ID'\n",
    ",'PP_Third_party_fee_invoice_code'\n",
    ",'PP_Third_party_fee_amount_USD'\n",
    ",'PP_Category_ID'\n",
    ",'GDS_Confirmation_Number'\n",
    "]]).astype(str)"
   ]
  },
  {
   "cell_type": "code",
   "execution_count": 11,
   "metadata": {},
   "outputs": [],
   "source": [
    "#print(osfdata)\n",
    "#osfdata.info()\n",
    "#osfdata.columns"
   ]
  },
  {
   "cell_type": "code",
   "execution_count": 12,
   "metadata": {},
   "outputs": [],
   "source": [
    "#Rename Column names to OSF Standard Column Names\n",
    "pd.set_option('mode.chained_assignment', None)\n",
    "osfdata.rename(columns=\n",
    "{\n",
    " 'File_Source' : 'File_Source'\n",
    ",'File_Timestamp' : 'File_Timestamp'\n",
    ",'Record_Type' : 'Record_Type'\n",
    ",'PR_Payment_Record_Type' : 'Payment_Record_Type'\n",
    ",'PR_Action_Code' : 'Action_Code'\n",
    ",'PR_Payment_Record_Number' : 'Payment_Record_Number'\n",
    ",'PR_Brand_Code' : 'Brand_Code'\n",
    ",'PR_Chain_Property_ID' : 'Chain_Property_ID'\n",
    ",'PR_Booking_Source_' : 'Booking_Source'\n",
    ",'PR_Chain_Confirmation_number' : 'Chain_Confirmation_Number'\n",
    ",'PR_Secondary_confirmation_number' : 'Secondary_Confirmation_Number'\n",
    ",'PR_Chain_Cancellation_Number' : 'Chain_Cancellation_Number'\n",
    ",'PR_Cancellation_origination_code' : 'Cancellation_Origination_Code'\n",
    ",'PR_Corporate_ID_Number' : 'Corporate_ID_Number'\n",
    ",'PR_ARC_IATA_Number' : 'ARC_IATA_Number'\n",
    ",'PR_Group_Guest_Last_Name' : 'Group_Guest_Last_Name'\n",
    ",'PR_Group_Guest_First_Name' : 'Group_Guest_First_Name'\n",
    ",'PR_PNR_Number' : 'PNR_Number'\n",
    ",'PR_GNR_Number' : 'GNR_Number'\n",
    ",'PR_GNR_sequence_number' : 'GNR_Sequence_Number'\n",
    ",'PR_Record_Status_Code' : 'Record_Status_Code'\n",
    ",'PR_Record_Reason_Code' : 'Record_Reason_Code'\n",
    ",'PR_Arrival_Date' : 'Arrival_Date'\n",
    ",'PR_Departure_Date' : 'Departure_Date'\n",
    ",'PR_Booking_Date' : 'Booking_Date'\n",
    ",'PR_Room_Type' : 'Room_Type'\n",
    ",'PR_Number_of_Nights' : 'Number_of_Nights'\n",
    ",'PR_Number_of_Rooms' : 'Number_of_Rooms'\n",
    ",'PR_CommissionableRevenue' : 'Commissionable_Revenue'\n",
    ",'PR_Gross_Commission_Due' : 'Gross_Commission_Due'\n",
    ",'PR_Adjustment_Amount' : 'Adjustment_Amount'\n",
    ",'PR_Net_Commision_Due' : 'Net_Commision_Due'\n",
    ",'PR_Commision_Percentage' : 'Commision_Percentage'\n",
    ",'PR_Commision_Flat_Amount' : 'Commision_Flat_Amount'\n",
    ",'PR_Transaction_Currency_Code' : 'Transaction_Currency_Code'\n",
    ",'PR_Total_Tax_Records' : 'Total_Tax_Records'\n",
    ",'PR_Total_Tax_Amount' : 'Total_Tax_Amount'\n",
    ",'PR_Rate_plan_code' : 'Rate_Plan'\n",
    ",'PR_Promotion_Code' : 'Promotion_Code'\n",
    ",'PA_Agency_Name' : 'Agency_Name'\n",
    ",'PA_Agency_Address_1' : 'Agency_Address_1'\n",
    ",'PA_Agency_Address_2' : 'Agency_Address_2'\n",
    ",'PA_Agency_Address_3' : 'Agency_Address_3'\n",
    ",'PA_Agency_City' : 'Agency_City'\n",
    ",'PA_Agency_State_Province_Code' : 'Agency_State_Province_Code'\n",
    ",'PA_Agency_Country_Code' : 'Agency_Country_Code'\n",
    ",'PA_Agency_Postal_Code' : 'Agency_Postal_Code'\n",
    ",'PA_Agency_Phone_Number' : 'Agency_Phone_Number'\n",
    ",'PA_Agency_Payment_Currency' : 'Agency_Payment_Currency'\n",
    ",'PP_Report_ID' : 'Report_ID'\n",
    ",'PP_Surrogate_Number' : 'Surrogate_Number'\n",
    ",'PP_Parent_Child_Indicator' : 'Parent_Child_Indicator'\n",
    ",'PP_Affiliation_of_TA' : 'Affiliation_Of_TA'\n",
    ",'PP_Primary_source_code' : 'Primary_Source_Code'\n",
    ",'PP_Secondary_source_code' : 'Secondary_Source_Code'\n",
    ",'PP_Invoice_flag' : 'Invoice_Flag'\n",
    ",'PP_Commission_processing_flag' : 'Commission_Processing_Flag'\n",
    ",'PP_Grouping_ID' : 'Grouping_ID'\n",
    ",'PP_Third_party_fee_invoice_code' : 'Third_Party_Fee_Invoice_Code'\n",
    ",'PP_Third_party_fee_amount_USD' : 'Third_Party_Fee_Amount_USD'\n",
    ",'PP_Category_ID' : 'Category_ID'\n",
    ",'GDS_Confirmation_Number' : 'GDS_Confirmation_Number'\n",
    "},inplace=True)"
   ]
  },
  {
   "cell_type": "code",
   "execution_count": 13,
   "metadata": {},
   "outputs": [],
   "source": [
    "#osfcsv = open ('/Users/raju.pillai/gitrepo/python/data/DataAcquisition/output/csv/osfdata.csv','a+')\n",
    "osfjson = open ('/Users/raju.pillai/gitrepo/python/data/DataAcquisition/output/json/osfjson.json','w+')"
   ]
  },
  {
   "cell_type": "code",
   "execution_count": 15,
   "metadata": {},
   "outputs": [],
   "source": [
    "#export_psf_csv = osfdata.to_csv(osfcsv, sep= '|', index=None, header=True, mode='a')\n",
    "export = osfdata.to_json(osfjson,orient='records')"
   ]
  },
  {
   "cell_type": "code",
   "execution_count": 35,
   "metadata": {},
   "outputs": [],
   "source": [
    "table = pa.Table.from_pandas(osfdata)"
   ]
  },
  {
   "cell_type": "code",
   "execution_count": 36,
   "metadata": {},
   "outputs": [],
   "source": [
    "#table"
   ]
  },
  {
   "cell_type": "code",
   "execution_count": 37,
   "metadata": {},
   "outputs": [],
   "source": [
    "#table.to_pandas()"
   ]
  },
  {
   "cell_type": "code",
   "execution_count": 38,
   "metadata": {},
   "outputs": [],
   "source": [
    "# pq.write_table(table, '/Users/raju.pillai/gitrepo/python/data/DataAcquisition/output/pqt/osfdata.parquet',compression='none')"
   ]
  },
  {
   "cell_type": "code",
   "execution_count": 39,
   "metadata": {},
   "outputs": [],
   "source": [
    " pq.write_to_dataset(table, root_path = '/Users/raju.pillai/gitrepo/python/data/DataAcquisition/output/pqt/95/osfdata_part_parquet95',partition_cols=['Brand_Code'], compression='none', use_dictionary=True)"
   ]
  },
  {
   "cell_type": "code",
   "execution_count": null,
   "metadata": {},
   "outputs": [],
   "source": []
  }
 ],
 "metadata": {
  "kernelspec": {
   "display_name": "Python 3",
   "language": "python",
   "name": "python3"
  },
  "language_info": {
   "codemirror_mode": {
    "name": "ipython",
    "version": 3
   },
   "file_extension": ".py",
   "mimetype": "text/x-python",
   "name": "python",
   "nbconvert_exporter": "python",
   "pygments_lexer": "ipython3",
   "version": "3.7.4"
  }
 },
 "nbformat": 4,
 "nbformat_minor": 2
}
