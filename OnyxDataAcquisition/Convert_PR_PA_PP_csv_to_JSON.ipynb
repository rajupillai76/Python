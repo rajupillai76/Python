{
 "cells": [
  {
   "cell_type": "markdown",
   "metadata": {},
   "source": [
    "## this take each of the 9.5 PR,PA & PP files and converts them to JSON"
   ]
  },
  {
   "cell_type": "code",
   "execution_count": 18,
   "metadata": {},
   "outputs": [],
   "source": [
    "import pandas as pd\n",
    "from pandas import DataFrame\n",
    "#import json\n",
    "#import csv"
   ]
  },
  {
   "cell_type": "code",
   "execution_count": 19,
   "metadata": {},
   "outputs": [],
   "source": [
    "prcsvfile = open('/Users/raju.pillai/gitrepo/python/data/DataAcquisition/source/csv/PR1807251056.csv','r')\n",
    "prjsonfile = open ('/Users/raju.pillai/gitrepo/python/data/DataAcquisition/output/json/PR1807251056.json','w+')"
   ]
  },
  {
   "cell_type": "code",
   "execution_count": 20,
   "metadata": {},
   "outputs": [],
   "source": [
    "prjsondf = DataFrame(pd.read_csv(prcsvfile, sep='|', engine='python'))"
   ]
  },
  {
   "cell_type": "code",
   "execution_count": 21,
   "metadata": {},
   "outputs": [],
   "source": [
    "export = prjsondf.to_json(prjsonfile,orient='records')"
   ]
  },
  {
   "cell_type": "code",
   "execution_count": 22,
   "metadata": {},
   "outputs": [],
   "source": [
    "prcsvfile.close()\n",
    "prjsonfile.close()\n",
    "del prjsondf          # delete the dataframe to free up memory"
   ]
  },
  {
   "cell_type": "code",
   "execution_count": 6,
   "metadata": {},
   "outputs": [],
   "source": [
    "#prjsondf.info()   # gives information regarding the dataframe"
   ]
  },
  {
   "cell_type": "code",
   "execution_count": 7,
   "metadata": {},
   "outputs": [],
   "source": [
    "pacsvfile = open('/Users/raju.pillai/gitrepo/python/data/DataAcquisition/source/csv/PA1807251056.csv','r')\n",
    "pajsonfile = open ('/Users/raju.pillai/gitrepo/python/data/DataAcquisition/output/json/PA1807251056.json','w+')"
   ]
  },
  {
   "cell_type": "code",
   "execution_count": 8,
   "metadata": {},
   "outputs": [],
   "source": [
    "pajsondf = DataFrame(pd.read_csv(pacsvfile, sep='|', engine='python'))"
   ]
  },
  {
   "cell_type": "code",
   "execution_count": 9,
   "metadata": {},
   "outputs": [],
   "source": [
    "export = pajsondf.to_json(pajsonfile,orient='records')"
   ]
  },
  {
   "cell_type": "code",
   "execution_count": 10,
   "metadata": {},
   "outputs": [],
   "source": [
    "pacsvfile.close()\n",
    "pajsonfile.close()\n",
    "del pajsondf"
   ]
  },
  {
   "cell_type": "code",
   "execution_count": 11,
   "metadata": {},
   "outputs": [],
   "source": [
    "ppcsvfile = open('/Users/raju.pillai/gitrepo/python/data/DataAcquisition/source/csv/PP1807251056.csv','r')\n",
    "ppjsonfile = open ('/Users/raju.pillai/gitrepo/python/data/DataAcquisition/output/json/PP1807251056.json','w+')"
   ]
  },
  {
   "cell_type": "code",
   "execution_count": 12,
   "metadata": {},
   "outputs": [],
   "source": [
    "ppjsondf = DataFrame(pd.read_csv(ppcsvfile, sep='|', engine='python'))"
   ]
  },
  {
   "cell_type": "code",
   "execution_count": 13,
   "metadata": {},
   "outputs": [],
   "source": [
    "export = ppjsondf.to_json(ppjsonfile,orient='records')"
   ]
  },
  {
   "cell_type": "code",
   "execution_count": 14,
   "metadata": {},
   "outputs": [],
   "source": [
    "ppcsvfile.close()\n",
    "ppjsonfile.close()\n",
    "del ppjsondf"
   ]
  }
 ],
 "metadata": {
  "kernelspec": {
   "display_name": "Python 3",
   "language": "python",
   "name": "python3"
  },
  "language_info": {
   "codemirror_mode": {
    "name": "ipython",
    "version": 3
   },
   "file_extension": ".py",
   "mimetype": "text/x-python",
   "name": "python",
   "nbconvert_exporter": "python",
   "pygments_lexer": "ipython3",
   "version": "3.7.3"
  }
 },
 "nbformat": 4,
 "nbformat_minor": 2
}
