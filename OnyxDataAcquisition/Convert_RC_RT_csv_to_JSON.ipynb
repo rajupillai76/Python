{
 "cells": [
  {
   "cell_type": "markdown",
   "metadata": {},
   "source": [
    "this take each of the 9.5 PR,PA & PP files and converts them to JSON"
   ]
  },
  {
   "cell_type": "code",
   "execution_count": 1,
   "metadata": {},
   "outputs": [],
   "source": [
    "import pandas as pd\n",
    "from pandas import DataFrame\n",
    "#import json\n",
    "#import csv"
   ]
  },
  {
   "cell_type": "code",
   "execution_count": 3,
   "metadata": {},
   "outputs": [],
   "source": [
    "rccsvfile = open('/Users/raju.pillai/gitrepo/python/data/DataAcquisition/source/csv/711RCF20190926_031857.in','r')\n",
    "rcjsonfile = open ('/Users/raju.pillai/gitrepo/python/data/DataAcquisition/output/json/711RCF20190926_031857.json','w+')"
   ]
  },
  {
   "cell_type": "code",
   "execution_count": 4,
   "metadata": {},
   "outputs": [],
   "source": [
    "rcjsondf = DataFrame(pd.read_csv(rccsvfile, sep='|', engine='python'))"
   ]
  },
  {
   "cell_type": "code",
   "execution_count": 5,
   "metadata": {},
   "outputs": [],
   "source": [
    "export = rcjsondf.to_json(rcjsonfile,orient='records')"
   ]
  },
  {
   "cell_type": "raw",
   "metadata": {},
   "source": [
    "rccsvfile.close()\n",
    "rcjsonfile.close()\n",
    "del rcjsondf          # delete the dataframe to free up memory"
   ]
  },
  {
   "cell_type": "code",
   "execution_count": 6,
   "metadata": {},
   "outputs": [],
   "source": [
    "#rcjsondf.info()   # gives information regarding the dataframe"
   ]
  },
  {
   "cell_type": "code",
   "execution_count": 8,
   "metadata": {},
   "outputs": [],
   "source": [
    "rtcsvfile = open('/Users/raju.pillai/gitrepo/python/data/DataAcquisition/source/csv/711RTF20190926.in','r')\n",
    "rtjsonfile = open ('/Users/raju.pillai/gitrepo/python/data/DataAcquisition/output/json/711RTF20190926.json','w+')"
   ]
  },
  {
   "cell_type": "code",
   "execution_count": 9,
   "metadata": {},
   "outputs": [],
   "source": [
    "rtjsondf = DataFrame(pd.read_csv(rtcsvfile, sep='|', engine='python'))"
   ]
  },
  {
   "cell_type": "code",
   "execution_count": 10,
   "metadata": {},
   "outputs": [],
   "source": [
    "export = rtjsondf.to_json(rtjsonfile,orient='records')"
   ]
  },
  {
   "cell_type": "code",
   "execution_count": 11,
   "metadata": {},
   "outputs": [],
   "source": [
    "rtcsvfile.close()\n",
    "rtjsonfile.close()\n",
    "del rtjsondf"
   ]
  }
 ],
 "metadata": {
  "kernelspec": {
   "display_name": "Python 3",
   "language": "python",
   "name": "python3"
  },
  "language_info": {
   "codemirror_mode": {
    "name": "ipython",
    "version": 3
   },
   "file_extension": ".py",
   "mimetype": "text/x-python",
   "name": "python",
   "nbconvert_exporter": "python",
   "pygments_lexer": "ipython3",
   "version": "3.7.4"
  }
 },
 "nbformat": 4,
 "nbformat_minor": 2
}
