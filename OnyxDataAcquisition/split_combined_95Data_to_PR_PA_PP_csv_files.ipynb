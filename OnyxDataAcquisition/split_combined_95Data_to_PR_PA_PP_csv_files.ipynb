{
 "cells": [
  {
   "cell_type": "markdown",
   "metadata": {},
   "source": [
    "# This is a one time run to convert the combined file to split into individual csv files"
   ]
  },
  {
   "cell_type": "code",
   "execution_count": 18,
   "metadata": {},
   "outputs": [],
   "source": [
    "import pandas as pd\n",
    "from pandas import DataFrame"
   ]
  },
  {
   "cell_type": "code",
   "execution_count": 19,
   "metadata": {},
   "outputs": [],
   "source": [
    "csvfile = open('/Users/raju.pillai/gitrepo/python/data/DataAcquisition/source/old/PR1807251056.in','r')\n",
    "jsonfile = open('/Users/raju.pillai/gitrepo/python/data/DataAcquisition/output/json/PR1807251056-95.json','w+')"
   ]
  },
  {
   "cell_type": "code",
   "execution_count": 20,
   "metadata": {},
   "outputs": [],
   "source": [
    "jsondata = DataFrame(pd.read_csv(csvfile, sep='|', engine='python'))"
   ]
  },
  {
   "cell_type": "code",
   "execution_count": 21,
   "metadata": {},
   "outputs": [],
   "source": [
    "#print (list(jsondata.columns))"
   ]
  },
  {
   "cell_type": "code",
   "execution_count": 22,
   "metadata": {},
   "outputs": [],
   "source": [
    "prdata = jsondata[['PR_Record_Type', 'PR_Payment_Record_Type', 'PR_Action_Code', 'PR_Payment_Record_Number', 'PR_Brand_Code', 'PR_Chain_Property_ID', 'PR_Booking_Source_', 'PR_Chain_Confirmation_number', 'PR_Secondary_confirmation_number', 'PR_Chain_Cancellation_Number', 'PR_Cancellation_origination_code', 'PR_Corporate_ID_Number', 'PR_ARC_IATA_Number', 'PR_Group_Guest_Last_Name', 'PR_Group_Guest_First_Name', 'PR_PNR_Number', 'PR_GNR_Number', 'PR_GNR_sequence_number', 'PR_Record_Status_Code', 'PR_Record_Reason_Code', 'PR_Arrival_Date', 'PR_Departure_Date', 'PR_Booking_Date', 'PR_Room_Type', 'PR_Number_of_Nights', 'PR_Number_of_Rooms', 'PR_CommissionableRevenue', 'PR_Gross_Commission_Due', 'PR_Adjustment_Amount', 'PR_Net_Commision_Due', 'PR_Commision_Percentage', 'PR_Commision_Flat_Amount', 'PR_Transaction_Currency_Code', 'PR_Total_Tax_Records', 'PR_Total_Tax_Amount', 'PR_Rate_plan_code', 'PR_Promotion_Code']]"
   ]
  },
  {
   "cell_type": "code",
   "execution_count": 23,
   "metadata": {},
   "outputs": [],
   "source": [
    "padata = jsondata[['PA_Record_Type', 'PA_Payment_Record_Number', 'PA_Brand_Code', 'PA_Agency_Name', 'PA_Agency_Address_1', 'PA_Agency_Address_2', 'PA_Agency_Address_3', 'PA_Agency_City', 'PA_Agency_State_Province_Code', 'PA_Agency_Country_Code', 'PA_Agency_Postal_Code', 'PA_Agency_Phone_Number', 'PA_Agency_Payment_Currency']]"
   ]
  },
  {
   "cell_type": "code",
   "execution_count": 24,
   "metadata": {},
   "outputs": [],
   "source": [
    "ppdata = jsondata[['PP_Record_Type', 'PP_Payment_Record_Number', 'PP_Brand_Code', 'PP_Report_ID', 'PP_Surrogate_Number', 'PP_Parent_Child_Indicator', 'PP_Affiliation_of_TA', 'PP_Primary_source_code', 'PP_Secondary_source_code', 'PP_Invoice_flag', 'PP_Commission_processing_flag', 'PP_Grouping_ID', 'PP_Third_party_fee_invoice_code', 'PP_Third_party_fee_amount_USD', 'PP_Category_ID']]"
   ]
  },
  {
   "cell_type": "code",
   "execution_count": 25,
   "metadata": {},
   "outputs": [],
   "source": [
    "#print(prdata)"
   ]
  },
  {
   "cell_type": "code",
   "execution_count": 26,
   "metadata": {},
   "outputs": [],
   "source": [
    "#print(padata)"
   ]
  },
  {
   "cell_type": "code",
   "execution_count": 27,
   "metadata": {},
   "outputs": [],
   "source": [
    "#print(ppdata)"
   ]
  },
  {
   "cell_type": "code",
   "execution_count": 28,
   "metadata": {},
   "outputs": [],
   "source": [
    "#export the whole file to a json\n",
    "export = jsondata.to_json(jsonfile,orient='records', lines=True)"
   ]
  },
  {
   "cell_type": "code",
   "execution_count": 29,
   "metadata": {},
   "outputs": [],
   "source": [
    "prcsv = open ('/Users/raju.pillai/gitrepo/python/data/DataAcquisition/output/csv/PR1807251056.csv','w+')\n",
    "pacsv = open ('/Users/raju.pillai/gitrepo/python/data/DataAcquisition/output/csv/PA1807251056.csv','w+')\n",
    "ppcsv = open ('/Users/raju.pillai/gitrepo/python/data/DataAcquisition/output/csv/PP1807251056.csv','w+')"
   ]
  },
  {
   "cell_type": "code",
   "execution_count": 30,
   "metadata": {},
   "outputs": [],
   "source": [
    "export_pr_csv = prdata.to_csv(prcsv, sep= '|', index=None, header=True)\n",
    "export_pa_csv = padata.to_csv(pacsv, sep= '|', index=None, header=True)\n",
    "export_pp_csv = ppdata.to_csv(ppcsv, sep= '|', index=None, header=True)"
   ]
  },
  {
   "cell_type": "code",
   "execution_count": 14,
   "metadata": {},
   "outputs": [
    {
     "name": "stdout",
     "output_type": "stream",
     "text": [
      "['PR_Record_Type', 'PR_Payment_Record_Type', 'PR_Action_Code', 'PR_Payment_Record_Number', 'PR_Brand_Code', 'PR_Chain_Property_ID', 'PR_Booking_Source_', 'PR_Chain_Confirmation_number', 'PR_Secondary_confirmation_number', 'PR_Chain_Cancellation_Number', 'PR_Cancellation_origination_code', 'PR_Corporate_ID_Number', 'PR_ARC_IATA_Number', 'PR_Group_Guest_Last_Name', 'PR_Group_Guest_First_Name', 'PR_PNR_Number', 'PR_GNR_Number', 'PR_GNR_sequence_number', 'PR_Record_Status_Code', 'PR_Record_Reason_Code', 'PR_Arrival_Date', 'PR_Departure_Date', 'PR_Booking_Date', 'PR_Room_Type', 'PR_Number_of_Nights', 'PR_Number_of_Rooms', 'PR_CommissionableRevenue', 'PR_Gross_Commission_Due', 'PR_Adjustment_Amount', 'PR_Net_Commision_Due', 'PR_Commision_Percentage', 'PR_Commision_Flat_Amount', 'PR_Transaction_Currency_Code', 'PR_Total_Tax_Records', 'PR_Total_Tax_Amount', 'PR_Rate_plan_code', 'PR_Promotion_Code', 'PR_Filler', 'PA_Record_Type', 'PA_Payment_Record_Number', 'PA_Brand_Code', 'PA_Agency_Name', 'PA_Agency_Address_1', 'PA_Agency_Address_2', 'PA_Agency_Address_3', 'PA_Agency_City', 'PA_Agency_State_Province_Code', 'PA_Agency_Country_Code', 'PA_Agency_Postal_Code', 'PA_Agency_Phone_Number', 'PA_Agency_Payment_Currency', 'PA_Filler', 'PP_Record_Type', 'PP_Payment_Record_Number', 'PP_Brand_Code', 'PP_Report_ID', 'PP_Surrogate_Number', 'PP_Parent_Child_Indicator', 'PP_Affiliation_of_TA', 'PP_Primary_source_code', 'PP_Secondary_source_code', 'PP_Invoice_flag', 'PP_Commission_processing_flag', 'PP_Grouping_ID', 'PP_Third_party_fee_invoice_code', 'PP_Third_party_fee_amount_USD', 'PP_Category_ID', 'Unnamed: 67']\n"
     ]
    }
   ],
   "source": [
    "#print (list(jsondata.columns))"
   ]
  },
  {
   "cell_type": "code",
   "execution_count": 19,
   "metadata": {},
   "outputs": [],
   "source": [
    "#jsondata[\"PA_Agency_Name\"].value_counts()"
   ]
  },
  {
   "cell_type": "code",
   "execution_count": 20,
   "metadata": {},
   "outputs": [],
   "source": [
    "#jsondata[\"PR_Record_Type\"].value_counts()"
   ]
  },
  {
   "cell_type": "code",
   "execution_count": null,
   "metadata": {},
   "outputs": [],
   "source": []
  },
  {
   "cell_type": "code",
   "execution_count": null,
   "metadata": {},
   "outputs": [],
   "source": []
  }
 ],
 "metadata": {
  "kernelspec": {
   "display_name": "Python 3",
   "language": "python",
   "name": "python3"
  },
  "language_info": {
   "codemirror_mode": {
    "name": "ipython",
    "version": 3
   },
   "file_extension": ".py",
   "mimetype": "text/x-python",
   "name": "python",
   "nbconvert_exporter": "python",
   "pygments_lexer": "ipython3",
   "version": "3.7.3"
  }
 },
 "nbformat": 4,
 "nbformat_minor": 2
}
