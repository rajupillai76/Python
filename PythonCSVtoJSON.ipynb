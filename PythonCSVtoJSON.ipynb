{
 "cells": [
  {
   "cell_type": "code",
   "execution_count": 232,
   "metadata": {},
   "outputs": [],
   "source": [
    "import csv\n",
    "import json\n",
    "import pandas as pd"
   ]
  },
  {
   "cell_type": "code",
   "execution_count": 233,
   "metadata": {},
   "outputs": [],
   "source": [
    "csvfile = open('/Users/a007247/GitHub/Python/data/TB_burden_countries_2018-09-07.csv','r')\n",
    "jsonfile = open ('/Users/a007247/GitHub/Python/data/TB_burden_countries_2018-09-07.json','w+')\n",
    "#reader = csv.DictReader(csvfile)"
   ]
  },
  {
   "cell_type": "code",
   "execution_count": 234,
   "metadata": {},
   "outputs": [],
   "source": [
    "with csvfile as csvdata:\n",
    "    reader = csv.DictReader(csvdata)\n",
    "    rows = list(reader)"
   ]
  },
  {
   "cell_type": "code",
   "execution_count": 235,
   "metadata": {},
   "outputs": [],
   "source": [
    "#for i in range(1): print(rows[1])"
   ]
  },
  {
   "cell_type": "code",
   "execution_count": 236,
   "metadata": {},
   "outputs": [],
   "source": [
    "with jsonfile as jsondata:\n",
    "    json.dump(rows,jsondata)\n",
    "jsonfile.close()"
   ]
  },
  {
   "cell_type": "code",
   "execution_count": 237,
   "metadata": {},
   "outputs": [],
   "source": [
    "with open('/Users/a007247/GitHub/Python/data/TB_burden_countries_2018-09-07.json','r') as jsonfile:\n",
    "        data = json.load(jsonfile)"
   ]
  },
  {
   "cell_type": "code",
   "execution_count": 238,
   "metadata": {},
   "outputs": [],
   "source": [
    "#for country in data: print (country['country'])"
   ]
  },
  {
   "cell_type": "code",
   "execution_count": 239,
   "metadata": {},
   "outputs": [],
   "source": [
    "df = pd.read_json('/Users/a007247/GitHub/Python/data/TB_burden_countries_2018-09-07.json')"
   ]
  },
  {
   "cell_type": "code",
   "execution_count": 240,
   "metadata": {},
   "outputs": [
    {
     "data": {
      "text/plain": [
       "Greece                               17\n",
       "Saudi Arabia                         17\n",
       "Turks and Caicos Islands             17\n",
       "Montserrat                           17\n",
       "Ghana                                17\n",
       "French Polynesia                     17\n",
       "Cyprus                               17\n",
       "Nepal                                17\n",
       "Croatia                              17\n",
       "Uruguay                              17\n",
       "Vanuatu                              17\n",
       "Samoa                                17\n",
       "Puerto Rico                          17\n",
       "Syrian Arab Republic                 17\n",
       "Tokelau                              17\n",
       "Sao Tome and Principe                17\n",
       "Ecuador                              17\n",
       "Algeria                              17\n",
       "Haiti                                17\n",
       "Turkmenistan                         17\n",
       "Latvia                               17\n",
       "Ireland                              17\n",
       "Andorra                              17\n",
       "West Bank and Gaza Strip             17\n",
       "Cook Islands                         17\n",
       "Antigua and Barbuda                  17\n",
       "Eswatini                             17\n",
       "Dominica                             17\n",
       "Belgium                              17\n",
       "Mozambique                           17\n",
       "                                     ..\n",
       "Democratic Republic of the Congo     17\n",
       "Egypt                                17\n",
       "Saint Kitts and Nevis                17\n",
       "Colombia                             17\n",
       "Tajikistan                           17\n",
       "Grenada                              17\n",
       "New Zealand                          17\n",
       "Georgia                              17\n",
       "Jordan                               17\n",
       "Switzerland                          17\n",
       "Burkina Faso                         17\n",
       "Cambodia                             17\n",
       "El Salvador                          17\n",
       "Peru                                 17\n",
       "Tunisia                              17\n",
       "China, Macao SAR                     17\n",
       "Micronesia (Federated States of)     17\n",
       "Libya                                17\n",
       "Rwanda                               17\n",
       "Japan                                17\n",
       "Ethiopia                             17\n",
       "Timor-Leste                          15\n",
       "Montenegro                           12\n",
       "Serbia                               12\n",
       "Netherlands Antilles                 10\n",
       "Bonaire, Saint Eustatius and Saba     7\n",
       "Curaçao                               7\n",
       "Sint Maarten (Dutch part)             7\n",
       "South Sudan                           6\n",
       "Serbia & Montenegro                   5\n",
       "Name: country, Length: 218, dtype: int64"
      ]
     },
     "execution_count": 240,
     "metadata": {},
     "output_type": "execute_result"
    }
   ],
   "source": [
    "country_tag = df['country']\n",
    "country_tag.value_counts(dropna=False)"
   ]
  },
  {
   "cell_type": "code",
   "execution_count": null,
   "metadata": {},
   "outputs": [],
   "source": []
  }
 ],
 "metadata": {
  "kernelspec": {
   "display_name": "Python 3",
   "language": "python",
   "name": "python3"
  },
  "language_info": {
   "codemirror_mode": {
    "name": "ipython",
    "version": 3
   },
   "file_extension": ".py",
   "mimetype": "text/x-python",
   "name": "python",
   "nbconvert_exporter": "python",
   "pygments_lexer": "ipython3",
   "version": "3.6.5"
  }
 },
 "nbformat": 4,
 "nbformat_minor": 2
}
