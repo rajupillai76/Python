{
 "cells": [
  {
   "cell_type": "code",
   "execution_count": 75,
   "metadata": {},
   "outputs": [],
   "source": [
    "import psycopg2 as pg\n",
    "import csv"
   ]
  },
  {
   "cell_type": "code",
   "execution_count": 76,
   "metadata": {},
   "outputs": [],
   "source": [
    "conn = pg.connect(\"host=localhost dbname=postgres\")\n",
    "cur = conn.cursor()"
   ]
  },
  {
   "cell_type": "code",
   "execution_count": 77,
   "metadata": {},
   "outputs": [],
   "source": [
    "#Mass import a csv file to a postgres table with no quotes or comma\n",
    "\n",
    "with open ('/Users/a007247/GitHub/Python/data/MonthlySales.csv', 'r') as csvdata:\n",
    "    next(csvdata) #skip the header row\n",
    "    cur.copy_from(csvdata,'monthlysales', sep=',')\n",
    "conn.commit()"
   ]
  },
  {
   "cell_type": "code",
   "execution_count": 78,
   "metadata": {},
   "outputs": [],
   "source": [
    "#Mass import a csv file to a postgres table with quotes or comma\n",
    "\n",
    "ProductSales = open ('/Users/a007247/GitHub/Python/data/MonthlyProductSales.csv', 'r')\n",
    "sql = \"copy monthlyproductsales from stdin with csv header\"\n",
    "cur.copy_expert(sql,ProductSales)\n",
    "conn.commit()\n",
    "conn.close()"
   ]
  },
  {
   "cell_type": "code",
   "execution_count": null,
   "metadata": {},
   "outputs": [],
   "source": []
  }
 ],
 "metadata": {
  "kernelspec": {
   "display_name": "Python 3",
   "language": "python",
   "name": "python3"
  },
  "language_info": {
   "codemirror_mode": {
    "name": "ipython",
    "version": 3
   },
   "file_extension": ".py",
   "mimetype": "text/x-python",
   "name": "python",
   "nbconvert_exporter": "python",
   "pygments_lexer": "ipython3",
   "version": "3.6.5"
  }
 },
 "nbformat": 4,
 "nbformat_minor": 2
}
